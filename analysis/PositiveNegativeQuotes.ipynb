{
  "cells": [
    {
      "cell_type": "code",
      "execution_count": null,
      "metadata": {
        "colab": {
          "base_uri": "https://localhost:8080/"
        },
        "id": "BGNwkr_FMuYC",
        "outputId": "228c607c-6312-4fa6-9c87-80083f7b583f"
      },
      "outputs": [
        {
          "output_type": "stream",
          "name": "stdout",
          "text": [
            "Drive already mounted at /content/drive; to attempt to forcibly remount, call drive.mount(\"/content/drive\", force_remount=True).\n"
          ]
        }
      ],
      "source": [
        "from google.colab import drive\n",
        "drive.mount('/content/drive')"
      ]
    },
    {
      "cell_type": "code",
      "execution_count": null,
      "metadata": {
        "colab": {
          "base_uri": "https://localhost:8080/"
        },
        "id": "CxpVRZZYEq1O",
        "outputId": "cbf07c57-52a9-428d-f32b-41d5c0937d1f"
      },
      "outputs": [
        {
          "output_type": "stream",
          "name": "stdout",
          "text": [
            "Requirement already satisfied: vaderSentiment in /usr/local/lib/python3.7/dist-packages (3.3.2)\n",
            "Requirement already satisfied: requests in /usr/local/lib/python3.7/dist-packages (from vaderSentiment) (2.23.0)\n",
            "Requirement already satisfied: idna<3,>=2.5 in /usr/local/lib/python3.7/dist-packages (from requests->vaderSentiment) (2.10)\n",
            "Requirement already satisfied: urllib3!=1.25.0,!=1.25.1,<1.26,>=1.21.1 in /usr/local/lib/python3.7/dist-packages (from requests->vaderSentiment) (1.24.3)\n",
            "Requirement already satisfied: certifi>=2017.4.17 in /usr/local/lib/python3.7/dist-packages (from requests->vaderSentiment) (2021.10.8)\n",
            "Requirement already satisfied: chardet<4,>=3.0.2 in /usr/local/lib/python3.7/dist-packages (from requests->vaderSentiment) (3.0.4)\n"
          ]
        }
      ],
      "source": [
        "pip install vaderSentiment"
      ]
    },
    {
      "cell_type": "code",
      "execution_count": null,
      "metadata": {
        "colab": {
          "base_uri": "https://localhost:8080/"
        },
        "id": "hjte7dqtFemR",
        "outputId": "5f100dbf-d1d5-42ec-823b-3b0eb325bb14"
      },
      "outputs": [
        {
          "output_type": "stream",
          "name": "stdout",
          "text": [
            "Requirement already satisfied: nltk in /usr/local/lib/python3.7/dist-packages (3.6.5)\n",
            "Requirement already satisfied: regex>=2021.8.3 in /usr/local/lib/python3.7/dist-packages (from nltk) (2021.11.10)\n",
            "Requirement already satisfied: joblib in /usr/local/lib/python3.7/dist-packages (from nltk) (1.1.0)\n",
            "Requirement already satisfied: click in /usr/local/lib/python3.7/dist-packages (from nltk) (7.1.2)\n",
            "Requirement already satisfied: tqdm in /usr/local/lib/python3.7/dist-packages (from nltk) (4.62.3)\n"
          ]
        }
      ],
      "source": [
        "pip install -U nltk"
      ]
    },
    {
      "cell_type": "code",
      "execution_count": null,
      "metadata": {
        "colab": {
          "base_uri": "https://localhost:8080/"
        },
        "id": "YnbWNUaEMxQ7",
        "outputId": "350e571e-7047-43ab-c37a-59ee926270b6"
      },
      "outputs": [
        {
          "output_type": "stream",
          "name": "stderr",
          "text": [
            "[nltk_data] Downloading package vader_lexicon to /root/nltk_data...\n",
            "[nltk_data]   Package vader_lexicon is already up-to-date!\n"
          ]
        }
      ],
      "source": [
        "import bz2\n",
        "import json\n",
        "import pandas as pd\n",
        "import numpy as np\n",
        "import seaborn as sns\n",
        "import matplotlib.pyplot as plt\n",
        "import nltk\n",
        "nltk.download('vader_lexicon')\n",
        "from nltk.sentiment.vader import SentimentIntensityAnalyzer\n",
        "from nltk.metrics.distance import edit_distance\n",
        "import re\n",
        "from datetime import datetime\n",
        "from datetime import date"
      ]
    },
    {
      "cell_type": "code",
      "execution_count": null,
      "metadata": {
        "id": "2v0IlqwCEjiJ",
        "colab": {
          "base_uri": "https://localhost:8080/"
        },
        "outputId": "806dd079-d785-43a7-c323-9b6e317f14b8"
      },
      "outputs": [
        {
          "output_type": "stream",
          "name": "stderr",
          "text": [
            "[nltk_data] Downloading package stopwords to /root/nltk_data...\n",
            "[nltk_data]   Package stopwords is already up-to-date!\n"
          ]
        }
      ],
      "source": [
        "import warnings; warnings.simplefilter('ignore')\n",
        "import os, codecs, string, random\n",
        "import numpy as np\n",
        "from numpy.random import seed as random_seed\n",
        "from numpy.random import shuffle as random_shuffle\n",
        "import matplotlib.pyplot as plt\n",
        "%matplotlib inline  \n",
        "\n",
        "seed = 42\n",
        "random.seed(seed)\n",
        "np.random.seed(seed)\n",
        "\n",
        "#NLP libraries\n",
        "import spacy, nltk, gensim, sklearn\n",
        "from nltk import metrics\n",
        "\n",
        "nltk.download('stopwords')\n",
        "\n",
        "#Vader\n",
        "import vaderSentiment\n",
        "from vaderSentiment.vaderSentiment import SentimentIntensityAnalyzer\n",
        "\n",
        "#Scikit imports\n",
        "from sklearn.feature_extraction.text import CountVectorizer\n",
        "from sklearn.model_selection import train_test_split\n",
        "from sklearn.model_selection import cross_val_score\n",
        "from sklearn.linear_model import LogisticRegression\n",
        "from sklearn import preprocessing\n",
        "from sklearn.preprocessing import StandardScaler\n",
        "from sklearn.utils import shuffle\n",
        "from gensim.models.phrases import Phrases\n",
        "from gensim.corpora import Dictionary\n",
        "\n",
        "from sklearn.decomposition import PCA\n",
        "from sklearn.preprocessing import StandardScaler\n",
        "\n",
        "nlp = spacy.load('en')"
      ]
    },
    {
      "cell_type": "code",
      "execution_count": null,
      "metadata": {
        "id": "2SpFtOBuQQQ9"
      },
      "outputs": [],
      "source": [
        "# Members of the intersection of both the 115th and 116th US Congress\n",
        "# All of these members where there during the whole 2016-2020 period (both 115th & 116th congress)\n",
        "congress = pd.read_csv(\"/content/drive/MyDrive/ADA/congress_115_116.csv\")"
      ]
    },
    {
      "cell_type": "code",
      "execution_count": null,
      "metadata": {
        "colab": {
          "base_uri": "https://localhost:8080/",
          "height": 259
        },
        "id": "XNBi8-thQ-WI",
        "outputId": "386b36a8-c6e9-468b-d1c8-fa18935cdcd1"
      },
      "outputs": [
        {
          "output_type": "stream",
          "name": "stdout",
          "text": [
            "D    198\n",
            "R    188\n",
            "Name: party, dtype: int64\n"
          ]
        },
        {
          "output_type": "execute_result",
          "data": {
            "text/html": [
              "\n",
              "  <div id=\"df-e80dfcdd-bb5e-4eb1-bfbd-1eab7327c72f\">\n",
              "    <div class=\"colab-df-container\">\n",
              "      <div>\n",
              "<style scoped>\n",
              "    .dataframe tbody tr th:only-of-type {\n",
              "        vertical-align: middle;\n",
              "    }\n",
              "\n",
              "    .dataframe tbody tr th {\n",
              "        vertical-align: top;\n",
              "    }\n",
              "\n",
              "    .dataframe thead th {\n",
              "        text-align: right;\n",
              "    }\n",
              "</style>\n",
              "<table border=\"1\" class=\"dataframe\">\n",
              "  <thead>\n",
              "    <tr style=\"text-align: right;\">\n",
              "      <th></th>\n",
              "      <th>Unnamed: 0</th>\n",
              "      <th>fec_candidate_id</th>\n",
              "      <th>speaker</th>\n",
              "      <th>short_title</th>\n",
              "      <th>last_name</th>\n",
              "      <th>first_name</th>\n",
              "      <th>party</th>\n",
              "      <th>date_of_birth</th>\n",
              "      <th>gender</th>\n",
              "      <th>state</th>\n",
              "    </tr>\n",
              "  </thead>\n",
              "  <tbody>\n",
              "    <tr>\n",
              "      <th>0</th>\n",
              "      <td>0</td>\n",
              "      <td>H4LA05221</td>\n",
              "      <td>ralph abraham</td>\n",
              "      <td>Rep.</td>\n",
              "      <td>Abraham</td>\n",
              "      <td>Ralph</td>\n",
              "      <td>R</td>\n",
              "      <td>1954-09-16</td>\n",
              "      <td>M</td>\n",
              "      <td>LA</td>\n",
              "    </tr>\n",
              "    <tr>\n",
              "      <th>2</th>\n",
              "      <td>2</td>\n",
              "      <td>H6AL04098</td>\n",
              "      <td>robert aderholt</td>\n",
              "      <td>Rep.</td>\n",
              "      <td>Aderholt</td>\n",
              "      <td>Robert</td>\n",
              "      <td>R</td>\n",
              "      <td>1965-07-22</td>\n",
              "      <td>M</td>\n",
              "      <td>AL</td>\n",
              "    </tr>\n",
              "    <tr>\n",
              "      <th>4</th>\n",
              "      <td>4</td>\n",
              "      <td>H2GA12121</td>\n",
              "      <td>rick allen</td>\n",
              "      <td>Rep.</td>\n",
              "      <td>Allen</td>\n",
              "      <td>Rick</td>\n",
              "      <td>R</td>\n",
              "      <td>1951-11-07</td>\n",
              "      <td>M</td>\n",
              "      <td>GA</td>\n",
              "    </tr>\n",
              "    <tr>\n",
              "      <th>5</th>\n",
              "      <td>5</td>\n",
              "      <td>H0MI03126</td>\n",
              "      <td>justin amash</td>\n",
              "      <td>Rep.</td>\n",
              "      <td>Amash</td>\n",
              "      <td>Justin</td>\n",
              "      <td>R</td>\n",
              "      <td>1980-04-18</td>\n",
              "      <td>M</td>\n",
              "      <td>MI</td>\n",
              "    </tr>\n",
              "    <tr>\n",
              "      <th>6</th>\n",
              "      <td>6</td>\n",
              "      <td>H2NV02395</td>\n",
              "      <td>mark amodei</td>\n",
              "      <td>Rep.</td>\n",
              "      <td>Amodei</td>\n",
              "      <td>Mark</td>\n",
              "      <td>R</td>\n",
              "      <td>1958-06-12</td>\n",
              "      <td>M</td>\n",
              "      <td>NV</td>\n",
              "    </tr>\n",
              "  </tbody>\n",
              "</table>\n",
              "</div>\n",
              "      <button class=\"colab-df-convert\" onclick=\"convertToInteractive('df-e80dfcdd-bb5e-4eb1-bfbd-1eab7327c72f')\"\n",
              "              title=\"Convert this dataframe to an interactive table.\"\n",
              "              style=\"display:none;\">\n",
              "        \n",
              "  <svg xmlns=\"http://www.w3.org/2000/svg\" height=\"24px\"viewBox=\"0 0 24 24\"\n",
              "       width=\"24px\">\n",
              "    <path d=\"M0 0h24v24H0V0z\" fill=\"none\"/>\n",
              "    <path d=\"M18.56 5.44l.94 2.06.94-2.06 2.06-.94-2.06-.94-.94-2.06-.94 2.06-2.06.94zm-11 1L8.5 8.5l.94-2.06 2.06-.94-2.06-.94L8.5 2.5l-.94 2.06-2.06.94zm10 10l.94 2.06.94-2.06 2.06-.94-2.06-.94-.94-2.06-.94 2.06-2.06.94z\"/><path d=\"M17.41 7.96l-1.37-1.37c-.4-.4-.92-.59-1.43-.59-.52 0-1.04.2-1.43.59L10.3 9.45l-7.72 7.72c-.78.78-.78 2.05 0 2.83L4 21.41c.39.39.9.59 1.41.59.51 0 1.02-.2 1.41-.59l7.78-7.78 2.81-2.81c.8-.78.8-2.07 0-2.86zM5.41 20L4 18.59l7.72-7.72 1.47 1.35L5.41 20z\"/>\n",
              "  </svg>\n",
              "      </button>\n",
              "      \n",
              "  <style>\n",
              "    .colab-df-container {\n",
              "      display:flex;\n",
              "      flex-wrap:wrap;\n",
              "      gap: 12px;\n",
              "    }\n",
              "\n",
              "    .colab-df-convert {\n",
              "      background-color: #E8F0FE;\n",
              "      border: none;\n",
              "      border-radius: 50%;\n",
              "      cursor: pointer;\n",
              "      display: none;\n",
              "      fill: #1967D2;\n",
              "      height: 32px;\n",
              "      padding: 0 0 0 0;\n",
              "      width: 32px;\n",
              "    }\n",
              "\n",
              "    .colab-df-convert:hover {\n",
              "      background-color: #E2EBFA;\n",
              "      box-shadow: 0px 1px 2px rgba(60, 64, 67, 0.3), 0px 1px 3px 1px rgba(60, 64, 67, 0.15);\n",
              "      fill: #174EA6;\n",
              "    }\n",
              "\n",
              "    [theme=dark] .colab-df-convert {\n",
              "      background-color: #3B4455;\n",
              "      fill: #D2E3FC;\n",
              "    }\n",
              "\n",
              "    [theme=dark] .colab-df-convert:hover {\n",
              "      background-color: #434B5C;\n",
              "      box-shadow: 0px 1px 3px 1px rgba(0, 0, 0, 0.15);\n",
              "      filter: drop-shadow(0px 1px 2px rgba(0, 0, 0, 0.3));\n",
              "      fill: #FFFFFF;\n",
              "    }\n",
              "  </style>\n",
              "\n",
              "      <script>\n",
              "        const buttonEl =\n",
              "          document.querySelector('#df-e80dfcdd-bb5e-4eb1-bfbd-1eab7327c72f button.colab-df-convert');\n",
              "        buttonEl.style.display =\n",
              "          google.colab.kernel.accessAllowed ? 'block' : 'none';\n",
              "\n",
              "        async function convertToInteractive(key) {\n",
              "          const element = document.querySelector('#df-e80dfcdd-bb5e-4eb1-bfbd-1eab7327c72f');\n",
              "          const dataTable =\n",
              "            await google.colab.kernel.invokeFunction('convertToInteractive',\n",
              "                                                     [key], {});\n",
              "          if (!dataTable) return;\n",
              "\n",
              "          const docLinkHtml = 'Like what you see? Visit the ' +\n",
              "            '<a target=\"_blank\" href=https://colab.research.google.com/notebooks/data_table.ipynb>data table notebook</a>'\n",
              "            + ' to learn more about interactive tables.';\n",
              "          element.innerHTML = '';\n",
              "          dataTable['output_type'] = 'display_data';\n",
              "          await google.colab.output.renderOutput(dataTable, element);\n",
              "          const docLink = document.createElement('div');\n",
              "          docLink.innerHTML = docLinkHtml;\n",
              "          element.appendChild(docLink);\n",
              "        }\n",
              "      </script>\n",
              "    </div>\n",
              "  </div>\n",
              "  "
            ],
            "text/plain": [
              "   Unnamed: 0 fec_candidate_id          speaker  ... date_of_birth gender state\n",
              "0           0        H4LA05221    ralph abraham  ...    1954-09-16      M    LA\n",
              "2           2        H6AL04098  robert aderholt  ...    1965-07-22      M    AL\n",
              "4           4        H2GA12121       rick allen  ...    1951-11-07      M    GA\n",
              "5           5        H0MI03126     justin amash  ...    1980-04-18      M    MI\n",
              "6           6        H2NV02395      mark amodei  ...    1958-06-12      M    NV\n",
              "\n",
              "[5 rows x 10 columns]"
            ]
          },
          "metadata": {},
          "execution_count": 34
        }
      ],
      "source": [
        "# Republican congressmen\n",
        "congress = congress[~(congress[\"party\"] == \"ID\")]\n",
        "republicans = congress[congress[\"party\"] == \"R\"]\n",
        "print(congress['party'].value_counts())\n",
        "republicans.head()"
      ]
    },
    {
      "cell_type": "code",
      "source": [
        "# Democratic congressmen\n",
        "democrats = congress[congress[\"party\"] == \"D\"]\n",
        "democrats.head()"
      ],
      "metadata": {
        "colab": {
          "base_uri": "https://localhost:8080/",
          "height": 206
        },
        "id": "XYGBjAG6J6eQ",
        "outputId": "04bc9e4d-0dff-40ec-8ee5-889445544201"
      },
      "execution_count": null,
      "outputs": [
        {
          "output_type": "execute_result",
          "data": {
            "text/html": [
              "\n",
              "  <div id=\"df-8a6bd71b-b1b1-452e-b8c0-c888c021d5ec\">\n",
              "    <div class=\"colab-df-container\">\n",
              "      <div>\n",
              "<style scoped>\n",
              "    .dataframe tbody tr th:only-of-type {\n",
              "        vertical-align: middle;\n",
              "    }\n",
              "\n",
              "    .dataframe tbody tr th {\n",
              "        vertical-align: top;\n",
              "    }\n",
              "\n",
              "    .dataframe thead th {\n",
              "        text-align: right;\n",
              "    }\n",
              "</style>\n",
              "<table border=\"1\" class=\"dataframe\">\n",
              "  <thead>\n",
              "    <tr style=\"text-align: right;\">\n",
              "      <th></th>\n",
              "      <th>Unnamed: 0</th>\n",
              "      <th>fec_candidate_id</th>\n",
              "      <th>speaker</th>\n",
              "      <th>short_title</th>\n",
              "      <th>last_name</th>\n",
              "      <th>first_name</th>\n",
              "      <th>party</th>\n",
              "      <th>date_of_birth</th>\n",
              "      <th>gender</th>\n",
              "      <th>state</th>\n",
              "    </tr>\n",
              "  </thead>\n",
              "  <tbody>\n",
              "    <tr>\n",
              "      <th>1</th>\n",
              "      <td>1</td>\n",
              "      <td>H4NC12100</td>\n",
              "      <td>alma adams</td>\n",
              "      <td>Rep.</td>\n",
              "      <td>Adams</td>\n",
              "      <td>Alma</td>\n",
              "      <td>D</td>\n",
              "      <td>1946-05-27</td>\n",
              "      <td>F</td>\n",
              "      <td>NC</td>\n",
              "    </tr>\n",
              "    <tr>\n",
              "      <th>3</th>\n",
              "      <td>3</td>\n",
              "      <td>H2CA31125</td>\n",
              "      <td>pete aguilar</td>\n",
              "      <td>Rep.</td>\n",
              "      <td>Aguilar</td>\n",
              "      <td>Pete</td>\n",
              "      <td>D</td>\n",
              "      <td>1979-06-19</td>\n",
              "      <td>M</td>\n",
              "      <td>CA</td>\n",
              "    </tr>\n",
              "    <tr>\n",
              "      <th>12</th>\n",
              "      <td>12</td>\n",
              "      <td>H6CA44103</td>\n",
              "      <td>nanette barragán</td>\n",
              "      <td>Rep.</td>\n",
              "      <td>Barragán</td>\n",
              "      <td>Nanette</td>\n",
              "      <td>D</td>\n",
              "      <td>1976-09-15</td>\n",
              "      <td>F</td>\n",
              "      <td>CA</td>\n",
              "    </tr>\n",
              "    <tr>\n",
              "      <th>13</th>\n",
              "      <td>13</td>\n",
              "      <td>H0CA33117</td>\n",
              "      <td>karen bass</td>\n",
              "      <td>Rep.</td>\n",
              "      <td>Bass</td>\n",
              "      <td>Karen</td>\n",
              "      <td>D</td>\n",
              "      <td>1953-10-03</td>\n",
              "      <td>F</td>\n",
              "      <td>CA</td>\n",
              "    </tr>\n",
              "    <tr>\n",
              "      <th>14</th>\n",
              "      <td>14</td>\n",
              "      <td>H2OH03125</td>\n",
              "      <td>joyce beatty</td>\n",
              "      <td>Rep.</td>\n",
              "      <td>Beatty</td>\n",
              "      <td>Joyce</td>\n",
              "      <td>D</td>\n",
              "      <td>1950-03-12</td>\n",
              "      <td>F</td>\n",
              "      <td>OH</td>\n",
              "    </tr>\n",
              "  </tbody>\n",
              "</table>\n",
              "</div>\n",
              "      <button class=\"colab-df-convert\" onclick=\"convertToInteractive('df-8a6bd71b-b1b1-452e-b8c0-c888c021d5ec')\"\n",
              "              title=\"Convert this dataframe to an interactive table.\"\n",
              "              style=\"display:none;\">\n",
              "        \n",
              "  <svg xmlns=\"http://www.w3.org/2000/svg\" height=\"24px\"viewBox=\"0 0 24 24\"\n",
              "       width=\"24px\">\n",
              "    <path d=\"M0 0h24v24H0V0z\" fill=\"none\"/>\n",
              "    <path d=\"M18.56 5.44l.94 2.06.94-2.06 2.06-.94-2.06-.94-.94-2.06-.94 2.06-2.06.94zm-11 1L8.5 8.5l.94-2.06 2.06-.94-2.06-.94L8.5 2.5l-.94 2.06-2.06.94zm10 10l.94 2.06.94-2.06 2.06-.94-2.06-.94-.94-2.06-.94 2.06-2.06.94z\"/><path d=\"M17.41 7.96l-1.37-1.37c-.4-.4-.92-.59-1.43-.59-.52 0-1.04.2-1.43.59L10.3 9.45l-7.72 7.72c-.78.78-.78 2.05 0 2.83L4 21.41c.39.39.9.59 1.41.59.51 0 1.02-.2 1.41-.59l7.78-7.78 2.81-2.81c.8-.78.8-2.07 0-2.86zM5.41 20L4 18.59l7.72-7.72 1.47 1.35L5.41 20z\"/>\n",
              "  </svg>\n",
              "      </button>\n",
              "      \n",
              "  <style>\n",
              "    .colab-df-container {\n",
              "      display:flex;\n",
              "      flex-wrap:wrap;\n",
              "      gap: 12px;\n",
              "    }\n",
              "\n",
              "    .colab-df-convert {\n",
              "      background-color: #E8F0FE;\n",
              "      border: none;\n",
              "      border-radius: 50%;\n",
              "      cursor: pointer;\n",
              "      display: none;\n",
              "      fill: #1967D2;\n",
              "      height: 32px;\n",
              "      padding: 0 0 0 0;\n",
              "      width: 32px;\n",
              "    }\n",
              "\n",
              "    .colab-df-convert:hover {\n",
              "      background-color: #E2EBFA;\n",
              "      box-shadow: 0px 1px 2px rgba(60, 64, 67, 0.3), 0px 1px 3px 1px rgba(60, 64, 67, 0.15);\n",
              "      fill: #174EA6;\n",
              "    }\n",
              "\n",
              "    [theme=dark] .colab-df-convert {\n",
              "      background-color: #3B4455;\n",
              "      fill: #D2E3FC;\n",
              "    }\n",
              "\n",
              "    [theme=dark] .colab-df-convert:hover {\n",
              "      background-color: #434B5C;\n",
              "      box-shadow: 0px 1px 3px 1px rgba(0, 0, 0, 0.15);\n",
              "      filter: drop-shadow(0px 1px 2px rgba(0, 0, 0, 0.3));\n",
              "      fill: #FFFFFF;\n",
              "    }\n",
              "  </style>\n",
              "\n",
              "      <script>\n",
              "        const buttonEl =\n",
              "          document.querySelector('#df-8a6bd71b-b1b1-452e-b8c0-c888c021d5ec button.colab-df-convert');\n",
              "        buttonEl.style.display =\n",
              "          google.colab.kernel.accessAllowed ? 'block' : 'none';\n",
              "\n",
              "        async function convertToInteractive(key) {\n",
              "          const element = document.querySelector('#df-8a6bd71b-b1b1-452e-b8c0-c888c021d5ec');\n",
              "          const dataTable =\n",
              "            await google.colab.kernel.invokeFunction('convertToInteractive',\n",
              "                                                     [key], {});\n",
              "          if (!dataTable) return;\n",
              "\n",
              "          const docLinkHtml = 'Like what you see? Visit the ' +\n",
              "            '<a target=\"_blank\" href=https://colab.research.google.com/notebooks/data_table.ipynb>data table notebook</a>'\n",
              "            + ' to learn more about interactive tables.';\n",
              "          element.innerHTML = '';\n",
              "          dataTable['output_type'] = 'display_data';\n",
              "          await google.colab.output.renderOutput(dataTable, element);\n",
              "          const docLink = document.createElement('div');\n",
              "          docLink.innerHTML = docLinkHtml;\n",
              "          element.appendChild(docLink);\n",
              "        }\n",
              "      </script>\n",
              "    </div>\n",
              "  </div>\n",
              "  "
            ],
            "text/plain": [
              "    Unnamed: 0 fec_candidate_id           speaker  ... date_of_birth gender state\n",
              "1            1        H4NC12100        alma adams  ...    1946-05-27      F    NC\n",
              "3            3        H2CA31125      pete aguilar  ...    1979-06-19      M    CA\n",
              "12          12        H6CA44103  nanette barragán  ...    1976-09-15      F    CA\n",
              "13          13        H0CA33117        karen bass  ...    1953-10-03      F    CA\n",
              "14          14        H2OH03125      joyce beatty  ...    1950-03-12      F    OH\n",
              "\n",
              "[5 rows x 10 columns]"
            ]
          },
          "metadata": {},
          "execution_count": 35
        }
      ]
    },
    {
      "cell_type": "code",
      "source": [
        "# Load data with respect to given year \n",
        "quotes_congress = []\n",
        "def loadDataYear(years):\n",
        "  # link to the Drive repo + the year of the newpapers quotes\n",
        "  for j, year in enumerate(years_data):\n",
        "    path_to_file = f'/content/drive/MyDrive/ADA/quotes-{year}-congress-speakers.json.bz2'\n",
        "    # here the data is in the ADA folder placed at the root of your Drive\n",
        "    with bz2.open(path_to_file, 'rb') as s_file:\n",
        "        for i, sample in enumerate(s_file):\n",
        "          quote = json.loads(sample)\n",
        "          quotes_congress.append(quote)"
      ],
      "metadata": {
        "id": "IeZ_Kwv_KZAh"
      },
      "execution_count": null,
      "outputs": []
    },
    {
      "cell_type": "code",
      "source": [
        "%%time \n",
        "#  Load data given year \n",
        "years_data = [\"2016\",\"2017\",\"2018\",\"2019\",\"2020\"]\n",
        "loadDataYear(years_data)"
      ],
      "metadata": {
        "colab": {
          "base_uri": "https://localhost:8080/"
        },
        "id": "CzlGb5maKA5X",
        "outputId": "5e5f2867-56c7-4f4b-a7cb-679581e18487"
      },
      "execution_count": null,
      "outputs": [
        {
          "output_type": "stream",
          "name": "stdout",
          "text": [
            "CPU times: user 2min 5s, sys: 3.42 s, total: 2min 9s\n",
            "Wall time: 2min 16s\n"
          ]
        }
      ]
    },
    {
      "cell_type": "code",
      "execution_count": null,
      "metadata": {
        "id": "YOmMBmsqM98o",
        "colab": {
          "base_uri": "https://localhost:8080/",
          "height": 250
        },
        "outputId": "ab6b6d87-84f0-48aa-f3f9-e81db0521a8e"
      },
      "outputs": [
        {
          "output_type": "execute_result",
          "data": {
            "text/html": [
              "\n",
              "  <div id=\"df-80472e4d-f89b-4d95-a371-cd215a00d78a\">\n",
              "    <div class=\"colab-df-container\">\n",
              "      <div>\n",
              "<style scoped>\n",
              "    .dataframe tbody tr th:only-of-type {\n",
              "        vertical-align: middle;\n",
              "    }\n",
              "\n",
              "    .dataframe tbody tr th {\n",
              "        vertical-align: top;\n",
              "    }\n",
              "\n",
              "    .dataframe thead th {\n",
              "        text-align: right;\n",
              "    }\n",
              "</style>\n",
              "<table border=\"1\" class=\"dataframe\">\n",
              "  <thead>\n",
              "    <tr style=\"text-align: right;\">\n",
              "      <th></th>\n",
              "      <th>quoteID</th>\n",
              "      <th>quotation</th>\n",
              "      <th>speaker</th>\n",
              "      <th>qids</th>\n",
              "      <th>date</th>\n",
              "      <th>numOccurrences</th>\n",
              "      <th>probas</th>\n",
              "      <th>urls</th>\n",
              "      <th>phase</th>\n",
              "      <th>party</th>\n",
              "      <th>date_of_birth</th>\n",
              "      <th>gender</th>\n",
              "      <th>state</th>\n",
              "    </tr>\n",
              "  </thead>\n",
              "  <tbody>\n",
              "    <tr>\n",
              "      <th>0</th>\n",
              "      <td>2016-07-21-005544</td>\n",
              "      <td>All the police officers that we work with, we ...</td>\n",
              "      <td>frederica wilson</td>\n",
              "      <td>[Q461504]</td>\n",
              "      <td>2016-07-21 17:01:00</td>\n",
              "      <td>1</td>\n",
              "      <td>[[Frederica Wilson, 0.8788], [None, 0.1212]]</td>\n",
              "      <td>[http://www.washingtontimes.com/news/2016/jul/...</td>\n",
              "      <td>E</td>\n",
              "      <td>D</td>\n",
              "      <td>1942-11-05</td>\n",
              "      <td>F</td>\n",
              "      <td>FL</td>\n",
              "    </tr>\n",
              "    <tr>\n",
              "      <th>1</th>\n",
              "      <td>2016-07-23-004668</td>\n",
              "      <td>As a former Christian missionary, faith is cen...</td>\n",
              "      <td>tim kaine</td>\n",
              "      <td>[Q359888]</td>\n",
              "      <td>2016-07-23 18:06:44</td>\n",
              "      <td>8</td>\n",
              "      <td>[[Tim Kaine, 0.5755], [None, 0.2272], [Larry R...</td>\n",
              "      <td>[https://www.buzzfeed.com/andrewkaczynski/list...</td>\n",
              "      <td>E</td>\n",
              "      <td>D</td>\n",
              "      <td>1958-02-26</td>\n",
              "      <td>M</td>\n",
              "      <td>VA</td>\n",
              "    </tr>\n",
              "    <tr>\n",
              "      <th>2</th>\n",
              "      <td>2016-09-09-010924</td>\n",
              "      <td>bad bill that would put Americans' savings and...</td>\n",
              "      <td>maxine waters</td>\n",
              "      <td>[Q461727]</td>\n",
              "      <td>2016-09-09 21:58:45</td>\n",
              "      <td>6</td>\n",
              "      <td>[[Maxine Waters, 0.922], [None, 0.0728], [Jim ...</td>\n",
              "      <td>[http://thehour.com/business/article/Himes-fav...</td>\n",
              "      <td>E</td>\n",
              "      <td>D</td>\n",
              "      <td>1938-08-15</td>\n",
              "      <td>F</td>\n",
              "      <td>CA</td>\n",
              "    </tr>\n",
              "    <tr>\n",
              "      <th>3</th>\n",
              "      <td>2016-09-28-013218</td>\n",
              "      <td>Better deal how? What exactly is your idea, Do...</td>\n",
              "      <td>elizabeth warren</td>\n",
              "      <td>[Q434706]</td>\n",
              "      <td>2016-09-28 08:34:00</td>\n",
              "      <td>2</td>\n",
              "      <td>[[Elizabeth Warren, 0.5615], [None, 0.3314], [...</td>\n",
              "      <td>[http://www.politico.com/story/2016/09/warren-...</td>\n",
              "      <td>E</td>\n",
              "      <td>D</td>\n",
              "      <td>1949-06-22</td>\n",
              "      <td>F</td>\n",
              "      <td>MA</td>\n",
              "    </tr>\n",
              "    <tr>\n",
              "      <th>4</th>\n",
              "      <td>2016-05-02-010790</td>\n",
              "      <td>But that's the free market,</td>\n",
              "      <td>seth moulton</td>\n",
              "      <td>[Q18045052]</td>\n",
              "      <td>2016-05-02 19:11:11</td>\n",
              "      <td>2</td>\n",
              "      <td>[[Seth Moulton, 0.3773], [None, 0.2566], [Dona...</td>\n",
              "      <td>[http://gloucestertimes.com/news/local_news/mo...</td>\n",
              "      <td>E</td>\n",
              "      <td>D</td>\n",
              "      <td>1978-10-24</td>\n",
              "      <td>M</td>\n",
              "      <td>MA</td>\n",
              "    </tr>\n",
              "  </tbody>\n",
              "</table>\n",
              "</div>\n",
              "      <button class=\"colab-df-convert\" onclick=\"convertToInteractive('df-80472e4d-f89b-4d95-a371-cd215a00d78a')\"\n",
              "              title=\"Convert this dataframe to an interactive table.\"\n",
              "              style=\"display:none;\">\n",
              "        \n",
              "  <svg xmlns=\"http://www.w3.org/2000/svg\" height=\"24px\"viewBox=\"0 0 24 24\"\n",
              "       width=\"24px\">\n",
              "    <path d=\"M0 0h24v24H0V0z\" fill=\"none\"/>\n",
              "    <path d=\"M18.56 5.44l.94 2.06.94-2.06 2.06-.94-2.06-.94-.94-2.06-.94 2.06-2.06.94zm-11 1L8.5 8.5l.94-2.06 2.06-.94-2.06-.94L8.5 2.5l-.94 2.06-2.06.94zm10 10l.94 2.06.94-2.06 2.06-.94-2.06-.94-.94-2.06-.94 2.06-2.06.94z\"/><path d=\"M17.41 7.96l-1.37-1.37c-.4-.4-.92-.59-1.43-.59-.52 0-1.04.2-1.43.59L10.3 9.45l-7.72 7.72c-.78.78-.78 2.05 0 2.83L4 21.41c.39.39.9.59 1.41.59.51 0 1.02-.2 1.41-.59l7.78-7.78 2.81-2.81c.8-.78.8-2.07 0-2.86zM5.41 20L4 18.59l7.72-7.72 1.47 1.35L5.41 20z\"/>\n",
              "  </svg>\n",
              "      </button>\n",
              "      \n",
              "  <style>\n",
              "    .colab-df-container {\n",
              "      display:flex;\n",
              "      flex-wrap:wrap;\n",
              "      gap: 12px;\n",
              "    }\n",
              "\n",
              "    .colab-df-convert {\n",
              "      background-color: #E8F0FE;\n",
              "      border: none;\n",
              "      border-radius: 50%;\n",
              "      cursor: pointer;\n",
              "      display: none;\n",
              "      fill: #1967D2;\n",
              "      height: 32px;\n",
              "      padding: 0 0 0 0;\n",
              "      width: 32px;\n",
              "    }\n",
              "\n",
              "    .colab-df-convert:hover {\n",
              "      background-color: #E2EBFA;\n",
              "      box-shadow: 0px 1px 2px rgba(60, 64, 67, 0.3), 0px 1px 3px 1px rgba(60, 64, 67, 0.15);\n",
              "      fill: #174EA6;\n",
              "    }\n",
              "\n",
              "    [theme=dark] .colab-df-convert {\n",
              "      background-color: #3B4455;\n",
              "      fill: #D2E3FC;\n",
              "    }\n",
              "\n",
              "    [theme=dark] .colab-df-convert:hover {\n",
              "      background-color: #434B5C;\n",
              "      box-shadow: 0px 1px 3px 1px rgba(0, 0, 0, 0.15);\n",
              "      filter: drop-shadow(0px 1px 2px rgba(0, 0, 0, 0.3));\n",
              "      fill: #FFFFFF;\n",
              "    }\n",
              "  </style>\n",
              "\n",
              "      <script>\n",
              "        const buttonEl =\n",
              "          document.querySelector('#df-80472e4d-f89b-4d95-a371-cd215a00d78a button.colab-df-convert');\n",
              "        buttonEl.style.display =\n",
              "          google.colab.kernel.accessAllowed ? 'block' : 'none';\n",
              "\n",
              "        async function convertToInteractive(key) {\n",
              "          const element = document.querySelector('#df-80472e4d-f89b-4d95-a371-cd215a00d78a');\n",
              "          const dataTable =\n",
              "            await google.colab.kernel.invokeFunction('convertToInteractive',\n",
              "                                                     [key], {});\n",
              "          if (!dataTable) return;\n",
              "\n",
              "          const docLinkHtml = 'Like what you see? Visit the ' +\n",
              "            '<a target=\"_blank\" href=https://colab.research.google.com/notebooks/data_table.ipynb>data table notebook</a>'\n",
              "            + ' to learn more about interactive tables.';\n",
              "          element.innerHTML = '';\n",
              "          dataTable['output_type'] = 'display_data';\n",
              "          await google.colab.output.renderOutput(dataTable, element);\n",
              "          const docLink = document.createElement('div');\n",
              "          docLink.innerHTML = docLinkHtml;\n",
              "          element.appendChild(docLink);\n",
              "        }\n",
              "      </script>\n",
              "    </div>\n",
              "  </div>\n",
              "  "
            ],
            "text/plain": [
              "             quoteID  ... state\n",
              "0  2016-07-21-005544  ...    FL\n",
              "1  2016-07-23-004668  ...    VA\n",
              "2  2016-09-09-010924  ...    CA\n",
              "3  2016-09-28-013218  ...    MA\n",
              "4  2016-05-02-010790  ...    MA\n",
              "\n",
              "[5 rows x 13 columns]"
            ]
          },
          "metadata": {},
          "execution_count": 38
        }
      ],
      "source": [
        "# Transforming the array of quotes in a pandas DataFrame\n",
        "# Display dataframe\n",
        "df_year_congress = pd.DataFrame(quotes_congress)\n",
        "df_year_congress.head()\n",
        "\n",
        "# Then create a new dataframe df with the political affiliation of speaker\n",
        "df = df_year_congress\n",
        "df['speaker'] = df['speaker'].str.lower() #puts all strings in lower cases\n",
        "df_congress_new = congress[['party','speaker','date_of_birth','gender','state']].copy()\n",
        "df_year_congress = df.merge(df_congress_new, how = 'left', on='speaker')\n",
        "df_year_congress.head()"
      ]
    },
    {
      "cell_type": "code",
      "source": [
        "## take all quotations independent of party or speaker\n",
        "quotations = np.array(df_year_congress[\"quotation\"])\n",
        "print(len(quotations))"
      ],
      "metadata": {
        "id": "wA8iMxvY83Xw",
        "colab": {
          "base_uri": "https://localhost:8080/"
        },
        "outputId": "95398c24-9ac4-4019-cfbf-50ed88bf1891"
      },
      "execution_count": null,
      "outputs": [
        {
          "output_type": "stream",
          "name": "stdout",
          "text": [
            "1158013\n"
          ]
        }
      ]
    },
    {
      "cell_type": "code",
      "source": [
        "# HEALTH CARE\n",
        "lex_field_healthcare = [\"healthcare\",\n",
        "                        \"health insurance\",\n",
        "                        \"health maintenance\",\n",
        "                        \"social insurance\",\n",
        "                        \"medicare\",\n",
        "                        \"medicaid\",\n",
        "                        \"obamacare\",\n",
        "                        \"affordable care act\",\n",
        "                        \"patient protection\",\n",
        "                        \"healthcare system\",\n",
        "                        \"insurance coverage\"\n",
        "                        \n",
        "                        ]"
      ],
      "metadata": {
        "id": "yzj3eXjoWqPM"
      },
      "execution_count": null,
      "outputs": []
    },
    {
      "cell_type": "code",
      "source": [
        "# GUN POLICY\n",
        "lex_field_gun_policy = [\"gun policy\",\n",
        "                        \"gun violence\",\n",
        "                        \"gun control\",\n",
        "                        \"gun license\",\n",
        "                        \"gun\",\n",
        "                        \"gunlaw\"\n",
        "                        \"firearm\",\n",
        "                        \"rifle\",\n",
        "                        \"revolver\",\n",
        "                        \"gun ownership\",\n",
        "                        \"gun debate\",\n",
        "                        \"gun law\",\n",
        "                        \"firearms regulation\"\n",
        "                        ]"
      ],
      "metadata": {
        "id": "px-HhEePST2U"
      },
      "execution_count": null,
      "outputs": []
    },
    {
      "cell_type": "code",
      "source": [
        "# CLIMATE \n",
        "lex_field_climate = [\"climate change\",\n",
        "\"Fossil Fuel\"\n",
        "\"Coal\",\n",
        "\"Oil\",\n",
        "\"Greenhouse Gas\",\n",
        "\"Carbon Dioxide\",\n",
        "\"Ozone\",\n",
        "\"Global Warming\",\n",
        "\"Greenhouse effect\",\n",
        "\"Extreme Weather Event\",\n",
        "\"Carbon Footprint\",\n",
        "\"Adaptation\",\n",
        "\"Mitigation\",\n",
        "\"Pollutant\",\n",
        "\"Drought\" ,\n",
        "\"Renewable Resource\",\n",
        "\"Climate\",\n",
        "\"Habitat\",\n",
        "\"Ecosystem\",\n",
        "\"Weather\",\n",
        "\"Precipitation\",\n",
        "\"Global climate\",\n",
        "\"Methane\"]"
      ],
      "metadata": {
        "id": "4EaL0TH9OUfj"
      },
      "execution_count": null,
      "outputs": []
    },
    {
      "cell_type": "code",
      "source": [
        "# IMMIGRATION\n",
        "lex_field_immigration = [\"Immigration\",\n",
        "\"Immigrant\",\n",
        "\"Immigrate\",\n",
        "\"Influx of immigrants\",\n",
        "\"First generation immigrant\",\n",
        "\"Immigrant Community/Population\",\n",
        "\"Migrant\",\n",
        "\"Economic Migrant\",\n",
        "\"Flood of Migrants\",\n",
        "\"Chain Migration\",\n",
        "\"Voluntary Migration\",\n",
        "\"Forced migration\",\n",
        "\"International Migration\",\n",
        "\"Interregional Migration\",\n",
        "\"Migration\",\n",
        "\"Migrant Labor\",\n",
        "\"Emigration\",\n",
        "\"Permanent Resident\",\n",
        "\"Temporary Resident\",\n",
        "\"Undocumented\",\n",
        "\"Illegal immigrant\",\n",
        "\"Repatriation\",\n",
        "\"Resettlement\",\n",
        "\"Colonization\", \n",
        "\"Refugee\", \n",
        "\"Refugee Status\", \n",
        "\"Refugee Crisis\", \n",
        "\"Refugee Claimant\", \n",
        "\"Resettled Refugee\", \n",
        "\"Refugee Camp\", \n",
        "\"Political Refugee\", \n",
        "\"Economic Refugee\", \n",
        "\"Refugee Flow\", \n",
        "\"UNHCR (United Nations High Commissioner for Refugees)\", \n",
        "\"Internally Displaced Person\", \n",
        "\"Asylum\", \n",
        "\"An Asylum-Seeker\", \n",
        "\"Stateless person\", \n",
        "\"Humanitarian\", \n",
        "\"Aid\", \n",
        "\"Flee\", \n",
        "\"Terror\", \n",
        "\"Human rights\", \n",
        "\"Border\", \n",
        "\"Barrier\",  \n",
        "\"Smuggling\", \n",
        "\"Trafficker\", \n",
        "\"Deportation\", \n",
        "]"
      ],
      "metadata": {
        "id": "soXx6-OoZ7K4"
      },
      "execution_count": null,
      "outputs": []
    },
    {
      "cell_type": "code",
      "source": [
        "# Select here the chosen TOPIC\n",
        "lex_field = lex_field_immigration\n",
        "\n",
        "# Lowercase conversion\n",
        "lex_field = np.array([x.lower() if isinstance(x, str) else x for x in lex_field])"
      ],
      "metadata": {
        "id": "4jpMAZYtMNzq"
      },
      "execution_count": null,
      "outputs": []
    },
    {
      "cell_type": "code",
      "source": [
        "len(quotations)"
      ],
      "metadata": {
        "id": "T9obSsvKdyaW",
        "colab": {
          "base_uri": "https://localhost:8080/"
        },
        "outputId": "39fc9278-effa-46dc-ada3-151dc5e9b84c"
      },
      "execution_count": null,
      "outputs": [
        {
          "output_type": "execute_result",
          "data": {
            "text/plain": [
              "1158013"
            ]
          },
          "metadata": {},
          "execution_count": 86
        }
      ]
    },
    {
      "cell_type": "code",
      "source": [
        "# Retrieve quotes \n",
        "set_lf = set(lex_field)\n",
        "lf_quotations = [quote for quote in quotations if(set_lf.intersection(set(quote.split())))]"
      ],
      "metadata": {
        "id": "to7-5YHCRgVh"
      },
      "execution_count": null,
      "outputs": []
    },
    {
      "cell_type": "code",
      "source": [
        "# df of quotes only on 1 subject\n",
        "df_lf_quotations = pd.DataFrame(lf_quotations, index=range(len(lf_quotations)), columns = ['quotation']) \n",
        "\n",
        "# Retrieve all other attributes (speaker, party,...) about the quote\n",
        "df_lf = df_year_congress.merge(df_lf_quotations, on=['quotation'], \n",
        "                   how='left', indicator=True)\n",
        "\n",
        "# df containing only quotes (&attributes of the speaker) w.r.t to the subject chosen\n",
        "df_lf = df_lf[df_lf['_merge'] == 'both']"
      ],
      "metadata": {
        "id": "GH1ER0Itd11T"
      },
      "execution_count": null,
      "outputs": []
    },
    {
      "cell_type": "markdown",
      "source": [
        "# Sentiment analysis"
      ],
      "metadata": {
        "id": "a-sn89TlLY_7"
      }
    },
    {
      "cell_type": "code",
      "source": [
        "analyzer = SentimentIntensityAnalyzer()\n",
        "def getSentimentAnalysis(dataset):\n",
        "  return [analyzer.polarity_scores(quote)['compound'] for quote in lf_quotations]"
      ],
      "metadata": {
        "id": "CCSH1xikWrGt"
      },
      "execution_count": null,
      "outputs": []
    },
    {
      "cell_type": "code",
      "source": [
        "# Retrieve sentiment scores -1 to 1\n",
        "sent_quotations = getSentimentAnalysis(lf_quotations)"
      ],
      "metadata": {
        "id": "0WSiq5MqWrEm"
      },
      "execution_count": null,
      "outputs": []
    },
    {
      "cell_type": "code",
      "source": [
        "# Select only positive and negative quotes (ignore neutral)\n",
        "df_neg_quotes = df_lf[np.array(sent_quotations) < -0.5]\n",
        "df_pos_quotes = df_lf[np.array(sent_quotations) > 0.5]\n",
        "\n",
        "#Count the number of positive and negative quotes for EACH PARTY\n",
        "df_pos_neg_party = pd.concat([df_pos_quotes.party.value_counts().to_frame('positive'), df_neg_quotes.party.value_counts().to_frame('negative')], axis=1)\n",
        "\n",
        "#Normalize horizontal histogram\n",
        "neg_data = df_pos_neg_party.apply(lambda x: x*100/sum(x),axis=1)\n",
        "neg_data.plot(kind=\"barh\", stacked = True, color = [\"limegreen\", \"tomato\"])\n",
        "plt.title(\"Immgration\")\n",
        "plt.xlabel(\"Percentage [%]\")\n",
        "plt.ylabel(\"Attributes\")\n",
        "plt.savefig('/content/drive/MyDrive/ADA/immigration_nltk.png')\n",
        "plt.show()"
      ],
      "metadata": {
        "id": "0ZcxyJDcbdRO",
        "colab": {
          "base_uri": "https://localhost:8080/",
          "height": 295
        },
        "outputId": "4e410b77-49c2-42d8-c19d-54bfa39bb30b"
      },
      "execution_count": null,
      "outputs": [
        {
          "output_type": "display_data",
          "data": {
            "image/png": "[encoded data removed]",
            "text/plain": [
              "<Figure size 432x288 with 1 Axes>"
            ]
          },
          "metadata": {
            "needs_background": "light"
          }
        }
      ]
    }
  ],
  "metadata": {
    "colab": {
      "collapsed_sections": [],
      "name": "PositiveNegativeQuotes.ipynb",
      "provenance": []
    },
    "kernelspec": {
      "display_name": "Python 3 (ipykernel)",
      "language": "python",
      "name": "python3"
    },
    "language_info": {
      "codemirror_mode": {
        "name": "ipython",
        "version": 3
      },
      "file_extension": ".py",
      "mimetype": "text/x-python",
      "name": "python",
      "nbconvert_exporter": "python",
      "pygments_lexer": "ipython3",
      "version": "3.8.5"
    }
  },
  "nbformat": 4,
  "nbformat_minor": 0
}