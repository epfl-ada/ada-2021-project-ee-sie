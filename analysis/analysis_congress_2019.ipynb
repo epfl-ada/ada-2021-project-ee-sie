{
  "nbformat": 4,
  "nbformat_minor": 0,
  "metadata": {
    "colab": {
      "name": "Analysis_congress_2019.ipynb",
      "provenance": [],
      "collapsed_sections": []
    },
    "kernelspec": {
      "name": "python3",
      "display_name": "Python 3"
    },
    "language_info": {
      "name": "python"
    }
  },
  "cells": [
    {
      "cell_type": "code",
      "metadata": {
        "colab": {
          "base_uri": "https://localhost:8080/"
        },
        "id": "BGNwkr_FMuYC",
        "outputId": "509b028e-a88e-4022-e29d-2a5a540e9baf"
      },
      "source": [
        "from google.colab import drive\n",
        "drive.mount('/content/drive')"
      ],
      "execution_count": null,
      "outputs": [
        {
          "output_type": "stream",
          "name": "stdout",
          "text": [
            "Mounted at /content/drive\n"
          ]
        }
      ]
    },
    {
      "cell_type": "code",
      "metadata": {
        "id": "YnbWNUaEMxQ7"
      },
      "source": [
        "import bz2\n",
        "import json\n",
        "import pandas as pd\n",
        "import numpy as np\n",
        "import seaborn as sns\n",
        "import matplotlib.pyplot as plt"
      ],
      "execution_count": null,
      "outputs": []
    },
    {
      "cell_type": "code",
      "metadata": {
        "id": "2SpFtOBuQQQ9"
      },
      "source": [
        "# Members of the intersection of both the 115th and 116th US Congress\n",
        "# All of these members where there during the whole 2016-2020 period (both 115th & 116th congress)\n",
        "congress = pd.read_csv(\"/content/drive/MyDrive/ADA/congress_115_116.csv\")"
      ],
      "execution_count": null,
      "outputs": []
    },
    {
      "cell_type": "code",
      "metadata": {
        "colab": {
          "base_uri": "https://localhost:8080/",
          "height": 309
        },
        "id": "XNBi8-thQ-WI",
        "outputId": "f1c32e07-4ac7-41e5-e893-467fdb2abd30"
      },
      "source": [
        "congress.head()"
      ],
      "execution_count": null,
      "outputs": [
        {
          "output_type": "execute_result",
          "data": {
            "text/html": [
              "<div>\n",
              "<style scoped>\n",
              "    .dataframe tbody tr th:only-of-type {\n",
              "        vertical-align: middle;\n",
              "    }\n",
              "\n",
              "    .dataframe tbody tr th {\n",
              "        vertical-align: top;\n",
              "    }\n",
              "\n",
              "    .dataframe thead th {\n",
              "        text-align: right;\n",
              "    }\n",
              "</style>\n",
              "<table border=\"1\" class=\"dataframe\">\n",
              "  <thead>\n",
              "    <tr style=\"text-align: right;\">\n",
              "      <th></th>\n",
              "      <th>Unnamed: 0</th>\n",
              "      <th>Unnamed: 0_x</th>\n",
              "      <th>fec_candidate_id</th>\n",
              "      <th>short_title_x</th>\n",
              "      <th>first_name_x</th>\n",
              "      <th>last_name_x</th>\n",
              "      <th>party_x</th>\n",
              "      <th>date_of_birth_x</th>\n",
              "      <th>gender_x</th>\n",
              "      <th>state_x</th>\n",
              "      <th>Unnamed: 0_y</th>\n",
              "      <th>short_title_y</th>\n",
              "      <th>first_name_y</th>\n",
              "      <th>last_name_y</th>\n",
              "      <th>party_y</th>\n",
              "      <th>date_of_birth_y</th>\n",
              "      <th>gender_y</th>\n",
              "      <th>state_y</th>\n",
              "      <th>speaker</th>\n",
              "    </tr>\n",
              "  </thead>\n",
              "  <tbody>\n",
              "    <tr>\n",
              "      <th>0</th>\n",
              "      <td>0</td>\n",
              "      <td>0</td>\n",
              "      <td>H4LA05221</td>\n",
              "      <td>Rep.</td>\n",
              "      <td>Ralph</td>\n",
              "      <td>Abraham</td>\n",
              "      <td>R</td>\n",
              "      <td>1954-09-16</td>\n",
              "      <td>M</td>\n",
              "      <td>LA</td>\n",
              "      <td>0</td>\n",
              "      <td>Rep.</td>\n",
              "      <td>Ralph</td>\n",
              "      <td>Abraham</td>\n",
              "      <td>R</td>\n",
              "      <td>1954-09-16</td>\n",
              "      <td>M</td>\n",
              "      <td>LA</td>\n",
              "      <td>ralph abraham</td>\n",
              "    </tr>\n",
              "    <tr>\n",
              "      <th>1</th>\n",
              "      <td>1</td>\n",
              "      <td>1</td>\n",
              "      <td>H4NC12100</td>\n",
              "      <td>Rep.</td>\n",
              "      <td>Alma</td>\n",
              "      <td>Adams</td>\n",
              "      <td>D</td>\n",
              "      <td>1946-05-27</td>\n",
              "      <td>F</td>\n",
              "      <td>NC</td>\n",
              "      <td>1</td>\n",
              "      <td>Rep.</td>\n",
              "      <td>Alma</td>\n",
              "      <td>Adams</td>\n",
              "      <td>D</td>\n",
              "      <td>1946-05-27</td>\n",
              "      <td>F</td>\n",
              "      <td>NC</td>\n",
              "      <td>alma adams</td>\n",
              "    </tr>\n",
              "    <tr>\n",
              "      <th>2</th>\n",
              "      <td>2</td>\n",
              "      <td>2</td>\n",
              "      <td>H6AL04098</td>\n",
              "      <td>Rep.</td>\n",
              "      <td>Robert</td>\n",
              "      <td>Aderholt</td>\n",
              "      <td>R</td>\n",
              "      <td>1965-07-22</td>\n",
              "      <td>M</td>\n",
              "      <td>AL</td>\n",
              "      <td>2</td>\n",
              "      <td>Rep.</td>\n",
              "      <td>Robert</td>\n",
              "      <td>Aderholt</td>\n",
              "      <td>R</td>\n",
              "      <td>1965-07-22</td>\n",
              "      <td>M</td>\n",
              "      <td>AL</td>\n",
              "      <td>robert aderholt</td>\n",
              "    </tr>\n",
              "    <tr>\n",
              "      <th>3</th>\n",
              "      <td>3</td>\n",
              "      <td>3</td>\n",
              "      <td>H2CA31125</td>\n",
              "      <td>Rep.</td>\n",
              "      <td>Pete</td>\n",
              "      <td>Aguilar</td>\n",
              "      <td>D</td>\n",
              "      <td>1979-06-19</td>\n",
              "      <td>M</td>\n",
              "      <td>CA</td>\n",
              "      <td>3</td>\n",
              "      <td>Rep.</td>\n",
              "      <td>Pete</td>\n",
              "      <td>Aguilar</td>\n",
              "      <td>D</td>\n",
              "      <td>1979-06-19</td>\n",
              "      <td>M</td>\n",
              "      <td>CA</td>\n",
              "      <td>pete aguilar</td>\n",
              "    </tr>\n",
              "    <tr>\n",
              "      <th>4</th>\n",
              "      <td>4</td>\n",
              "      <td>4</td>\n",
              "      <td>H2GA12121</td>\n",
              "      <td>Rep.</td>\n",
              "      <td>Rick</td>\n",
              "      <td>Allen</td>\n",
              "      <td>R</td>\n",
              "      <td>1951-11-07</td>\n",
              "      <td>M</td>\n",
              "      <td>GA</td>\n",
              "      <td>4</td>\n",
              "      <td>Rep.</td>\n",
              "      <td>Rick</td>\n",
              "      <td>Allen</td>\n",
              "      <td>R</td>\n",
              "      <td>1951-11-07</td>\n",
              "      <td>M</td>\n",
              "      <td>GA</td>\n",
              "      <td>rick allen</td>\n",
              "    </tr>\n",
              "  </tbody>\n",
              "</table>\n",
              "</div>"
            ],
            "text/plain": [
              "   Unnamed: 0  Unnamed: 0_x fec_candidate_id  ... gender_y state_y          speaker\n",
              "0           0             0        H4LA05221  ...        M      LA    ralph abraham\n",
              "1           1             1        H4NC12100  ...        F      NC       alma adams\n",
              "2           2             2        H6AL04098  ...        M      AL  robert aderholt\n",
              "3           3             3        H2CA31125  ...        M      CA     pete aguilar\n",
              "4           4             4        H2GA12121  ...        M      GA       rick allen\n",
              "\n",
              "[5 rows x 19 columns]"
            ]
          },
          "metadata": {},
          "execution_count": 17
        }
      ]
    },
    {
      "cell_type": "code",
      "metadata": {
        "colab": {
          "base_uri": "https://localhost:8080/"
        },
        "id": "YOmMBmsqM98o",
        "outputId": "0e31e75d-81b0-4624-ea9a-dfb241c33108"
      },
      "source": [
        "%%time \n",
        "# link to the Drive repo + the year of the newpapers quotes\n",
        "path_to_file = '/content/drive/MyDrive/ADA/quotes-2019-congress-speakers.json.bz2'\n",
        "# here the data is in the ADA folder placed at the root of your Drive\n",
        "\n",
        "quotes_2019_congress = []\n",
        "with bz2.open(path_to_file, 'rb') as s_file:\n",
        "    for i, sample in enumerate(s_file):\n",
        "      quote = json.loads(sample)\n",
        "      quotes_2019_congress.append(quote)"
      ],
      "execution_count": null,
      "outputs": [
        {
          "output_type": "stream",
          "name": "stdout",
          "text": [
            "CPU times: user 41.3 s, sys: 1.47 s, total: 42.8 s\n",
            "Wall time: 43.1 s\n"
          ]
        }
      ]
    },
    {
      "cell_type": "code",
      "metadata": {
        "colab": {
          "base_uri": "https://localhost:8080/",
          "height": 289
        },
        "id": "17SJBuXRNNch",
        "outputId": "80dd8fb1-e055-4106-e0de-1c4091fd400e"
      },
      "source": [
        "# Transforming the array of quotes in a pandas DataFrame\n",
        "df_2019_congress = pd.DataFrame(quotes_2019_congress)\n",
        "df_2019_congress.head()"
      ],
      "execution_count": null,
      "outputs": [
        {
          "output_type": "execute_result",
          "data": {
            "text/html": [
              "<div>\n",
              "<style scoped>\n",
              "    .dataframe tbody tr th:only-of-type {\n",
              "        vertical-align: middle;\n",
              "    }\n",
              "\n",
              "    .dataframe tbody tr th {\n",
              "        vertical-align: top;\n",
              "    }\n",
              "\n",
              "    .dataframe thead th {\n",
              "        text-align: right;\n",
              "    }\n",
              "</style>\n",
              "<table border=\"1\" class=\"dataframe\">\n",
              "  <thead>\n",
              "    <tr style=\"text-align: right;\">\n",
              "      <th></th>\n",
              "      <th>quoteID</th>\n",
              "      <th>quotation</th>\n",
              "      <th>speaker</th>\n",
              "      <th>qids</th>\n",
              "      <th>date</th>\n",
              "      <th>numOccurrences</th>\n",
              "      <th>probas</th>\n",
              "      <th>urls</th>\n",
              "      <th>phase</th>\n",
              "    </tr>\n",
              "  </thead>\n",
              "  <tbody>\n",
              "    <tr>\n",
              "      <th>0</th>\n",
              "      <td>2019-06-28-043094</td>\n",
              "      <td>It is my view that the answer to their problem...</td>\n",
              "      <td>Marco Rubio</td>\n",
              "      <td>[Q324546]</td>\n",
              "      <td>2019-06-28 21:54:17</td>\n",
              "      <td>1</td>\n",
              "      <td>[[Marco Rubio, 0.7263], [None, 0.2737]]</td>\n",
              "      <td>[http://www.breitbart.com/politics/2019/06/28/...</td>\n",
              "      <td>E</td>\n",
              "    </tr>\n",
              "    <tr>\n",
              "      <th>1</th>\n",
              "      <td>2019-08-12-040085</td>\n",
              "      <td>It looked wonderful. I wish I was there.</td>\n",
              "      <td>Bill Johnson</td>\n",
              "      <td>[Q16204402, Q17385655, Q17626755, Q21585452, Q...</td>\n",
              "      <td>2019-08-12 09:16:52</td>\n",
              "      <td>1</td>\n",
              "      <td>[[Bill Johnson, 0.5411], [None, 0.4285], [Dona...</td>\n",
              "      <td>[https://www.gazettenet.com/Trump-supporters-w...</td>\n",
              "      <td>E</td>\n",
              "    </tr>\n",
              "    <tr>\n",
              "      <th>2</th>\n",
              "      <td>2019-11-14-054232</td>\n",
              "      <td>It may be in early December. We don't have a t...</td>\n",
              "      <td>Hakeem Jeffries</td>\n",
              "      <td>[Q5640425]</td>\n",
              "      <td>2019-11-14 14:17:35</td>\n",
              "      <td>1</td>\n",
              "      <td>[[Hakeem Jeffries, 0.487], [None, 0.4868], [Mi...</td>\n",
              "      <td>[http://www.eenews.net/stories/1061544043]</td>\n",
              "      <td>E</td>\n",
              "    </tr>\n",
              "    <tr>\n",
              "      <th>3</th>\n",
              "      <td>2019-03-21-001139</td>\n",
              "      <td>a destroyer-type midfield boss.</td>\n",
              "      <td>Adam Smith</td>\n",
              "      <td>[Q14950467, Q16255210, Q20023132, Q22121229, Q...</td>\n",
              "      <td>2019-03-21 19:22:00</td>\n",
              "      <td>1</td>\n",
              "      <td>[[Adam Smith, 0.8078], [None, 0.1762], [Frank ...</td>\n",
              "      <td>[http://www.fresnobee.com/sports/article228132...</td>\n",
              "      <td>E</td>\n",
              "    </tr>\n",
              "    <tr>\n",
              "      <th>4</th>\n",
              "      <td>2019-06-17-001015</td>\n",
              "      <td>A fair and accurate count of every person in A...</td>\n",
              "      <td>Val Demings</td>\n",
              "      <td>[Q7909083]</td>\n",
              "      <td>2019-06-17 09:00:00</td>\n",
              "      <td>1</td>\n",
              "      <td>[[Val Demings, 0.8553], [None, 0.1447]]</td>\n",
              "      <td>[http://www.tbo.com/florida-politics/buzz/2019...</td>\n",
              "      <td>E</td>\n",
              "    </tr>\n",
              "  </tbody>\n",
              "</table>\n",
              "</div>"
            ],
            "text/plain": [
              "             quoteID  ... phase\n",
              "0  2019-06-28-043094  ...     E\n",
              "1  2019-08-12-040085  ...     E\n",
              "2  2019-11-14-054232  ...     E\n",
              "3  2019-03-21-001139  ...     E\n",
              "4  2019-06-17-001015  ...     E\n",
              "\n",
              "[5 rows x 9 columns]"
            ]
          },
          "metadata": {},
          "execution_count": 13
        }
      ]
    },
    {
      "cell_type": "code",
      "metadata": {
        "colab": {
          "base_uri": "https://localhost:8080/"
        },
        "id": "Q3qpFkxfNQcU",
        "outputId": "245a10ae-4db6-41ed-9da9-953353dc2d29"
      },
      "source": [
        "# Counting the number of quotes by each member of the congress\n",
        "df_2019_congress[\"speaker\"].value_counts()"
      ],
      "execution_count": null,
      "outputs": [
        {
          "output_type": "stream",
          "name": "stdout",
          "text": [
            "CPU times: user 144 ms, sys: 1.95 ms, total: 146 ms\n",
            "Wall time: 145 ms\n"
          ]
        },
        {
          "output_type": "execute_result",
          "data": {
            "text/plain": [
              "Nancy Pelosi        21287\n",
              "Elizabeth Warren    21108\n",
              "Lindsey Graham      10949\n",
              "Cory Booker         10191\n",
              "Adam Schiff         10143\n",
              "                    ...  \n",
              "JOHN GARAMENDI          1\n",
              "mike thompson           1\n",
              "TED CRUZ                1\n",
              "rand paul               1\n",
              "Joseph kennedy          1\n",
              "Name: speaker, Length: 659, dtype: int64"
            ]
          },
          "metadata": {},
          "execution_count": 14
        }
      ]
    },
    {
      "cell_type": "code",
      "metadata": {
        "colab": {
          "base_uri": "https://localhost:8080/",
          "height": 329
        },
        "id": "UIFM0P3WNXw9",
        "outputId": "5f7960e2-7080-4c3b-8ab8-55659f7a4f67"
      },
      "source": [
        "%%time\n",
        "# Distribution of the number(#) of speakers in function of the # of quotes\n",
        "\n",
        "ax11 = sns.histplot(data = df_2019_congress[\"speaker\"].value_counts(), bins=100)\n",
        "ax11.set_title('Distribution of the number of speakers in function of the number of quotations (in 2019)')\n",
        "ax11.set_ylabel('# Speaker(s)')\n",
        "ax11.set_xlabel('Quotation(s)')\n",
        "plt.show()"
      ],
      "execution_count": null,
      "outputs": [
        {
          "output_type": "display_data",
          "data": {
            "image/png": "[encoded data removed]",
            "text/plain": [
              "<Figure size 432x288 with 1 Axes>"
            ]
          },
          "metadata": {
            "needs_background": "light"
          }
        },
        {
          "output_type": "stream",
          "name": "stdout",
          "text": [
            "CPU times: user 646 ms, sys: 19.7 ms, total: 665 ms\n",
            "Wall time: 672 ms\n"
          ]
        }
      ]
    }
  ]
}