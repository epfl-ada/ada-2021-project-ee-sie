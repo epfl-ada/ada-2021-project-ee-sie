{
 "cells": [
  {
   "cell_type": "code",
   "execution_count": 1,
   "metadata": {
    "colab": {
     "base_uri": "https://localhost:8080/"
    },
    "executionInfo": {
     "elapsed": 2376,
     "status": "ok",
     "timestamp": 1636739385139,
     "user": {
      "displayName": "Ahmed Zouaoui",
      "photoUrl": "https://lh3.googleusercontent.com/a/default-user=s64",
      "userId": "11340991357761390079"
     },
     "user_tz": -60
    },
    "id": "KoNYzUXGz3Y3",
    "outputId": "4b6bd4d9-b493-405f-d24d-8fcef10b5f95"
   },
   "outputs": [
    {
     "name": "stdout",
     "output_type": "stream",
     "text": [
      "Drive already mounted at /content/drive; to attempt to forcibly remount, call drive.mount(\"/content/drive\", force_remount=True).\n"
     ]
    }
   ],
   "source": [
    "from google.colab import drive\n",
    "drive.mount('/content/drive')"
   ]
  },
  {
   "cell_type": "code",
   "execution_count": 18,
   "metadata": {
    "executionInfo": {
     "elapsed": 343,
     "status": "ok",
     "timestamp": 1636739558805,
     "user": {
      "displayName": "Ahmed Zouaoui",
      "photoUrl": "https://lh3.googleusercontent.com/a/default-user=s64",
      "userId": "11340991357761390079"
     },
     "user_tz": -60
    },
    "id": "6RHk7vJoz5OU"
   },
   "outputs": [],
   "source": [
    "import pandas as pd\n",
    "import numpy as np\n",
    "import matplotlib.pyplot as plt\n",
    "import seaborn as sns\n",
    "import networkx as nx\n",
    "import statsmodels.api as sm\n",
    "import statsmodels.formula.api as smf"
   ]
  },
  {
   "cell_type": "code",
   "execution_count": 19,
   "metadata": {
    "executionInfo": {
     "elapsed": 6,
     "status": "ok",
     "timestamp": 1636739560414,
     "user": {
      "displayName": "Ahmed Zouaoui",
      "photoUrl": "https://lh3.googleusercontent.com/a/default-user=s64",
      "userId": "11340991357761390079"
     },
     "user_tz": -60
    },
    "id": "ChhPK3Rc0Ddc"
   },
   "outputs": [],
   "source": [
    "data = pd.read_csv(\"/content/drive/MyDrive/ADA/congress_115_116.csv\")\n",
    "congress=data[ (data.party!='ID')]#We remove the independant politician\n"
   ]
  },
  {
   "cell_type": "markdown",
   "metadata": {
    "id": "RrZqhKVKS_pe"
   },
   "source": [
    "# Observational Studies\n",
    "\n",
    "As we have handpicked our own dataset from the quotebank, we want to know what are the possible limitations that are due to Covariates on the outcome. To do so an observational study will be made.\n",
    "\n",
    "In theory, only the political party of the speaker should have an influence on the result;In practise, some covariates may change the outcome too. \n",
    "\n",
    "\n",
    "The \"treatment\" variable is set to be the party of the speaker (1 if republican R  and 0 if democrat D) and the observed covariates are the age , party and the gender of the speaker."
   ]
  },
  {
   "cell_type": "code",
   "execution_count": 25,
   "metadata": {
    "colab": {
     "base_uri": "https://localhost:8080/"
    },
    "executionInfo": {
     "elapsed": 438,
     "status": "ok",
     "timestamp": 1636739927624,
     "user": {
      "displayName": "Ahmed Zouaoui",
      "photoUrl": "https://lh3.googleusercontent.com/a/default-user=s64",
      "userId": "11340991357761390079"
     },
     "user_tz": -60
    },
    "id": "aMre4fZkRzyy",
    "outputId": "c05d250f-e46b-486f-d6e2-fa29a0034eab"
   },
   "outputs": [
    {
     "name": "stderr",
     "output_type": "stream",
     "text": [
      "/usr/local/lib/python3.7/dist-packages/ipykernel_launcher.py:2: SettingWithCopyWarning: \n",
      "A value is trying to be set on a copy of a slice from a DataFrame.\n",
      "Try using .loc[row_indexer,col_indexer] = value instead\n",
      "\n",
      "See the caveats in the documentation: https://pandas.pydata.org/pandas-docs/stable/user_guide/indexing.html#returning-a-view-versus-a-copy\n",
      "  \n"
     ]
    }
   ],
   "source": [
    "obs_congress= congress[[\"party\" ,\"gender\",\"date_of_birth\",\"state\"]]\n",
    "obs_congress['year_of_birth']=pd.DatetimeIndex(obs_congress['date_of_birth']).year \n"
   ]
  },
  {
   "cell_type": "code",
   "execution_count": 26,
   "metadata": {
    "colab": {
     "base_uri": "https://localhost:8080/",
     "height": 111
    },
    "executionInfo": {
     "elapsed": 22,
     "status": "ok",
     "timestamp": 1636739928238,
     "user": {
      "displayName": "Ahmed Zouaoui",
      "photoUrl": "https://lh3.googleusercontent.com/a/default-user=s64",
      "userId": "11340991357761390079"
     },
     "user_tz": -60
    },
    "id": "LK1RUYT40UHQ",
    "outputId": "bab2e51f-4563-444c-9a2b-1588a363fe7f"
   },
   "outputs": [
    {
     "data": {
      "text/html": [
       "<div>\n",
       "<style scoped>\n",
       "    .dataframe tbody tr th:only-of-type {\n",
       "        vertical-align: middle;\n",
       "    }\n",
       "\n",
       "    .dataframe tbody tr th {\n",
       "        vertical-align: top;\n",
       "    }\n",
       "\n",
       "    .dataframe thead th {\n",
       "        text-align: right;\n",
       "    }\n",
       "</style>\n",
       "<table border=\"1\" class=\"dataframe\">\n",
       "  <thead>\n",
       "    <tr style=\"text-align: right;\">\n",
       "      <th></th>\n",
       "      <th>party</th>\n",
       "      <th>gender</th>\n",
       "      <th>date_of_birth</th>\n",
       "      <th>state</th>\n",
       "      <th>year_of_birth</th>\n",
       "    </tr>\n",
       "  </thead>\n",
       "  <tbody>\n",
       "    <tr>\n",
       "      <th>0</th>\n",
       "      <td>R</td>\n",
       "      <td>M</td>\n",
       "      <td>1954-09-16</td>\n",
       "      <td>LA</td>\n",
       "      <td>1954</td>\n",
       "    </tr>\n",
       "    <tr>\n",
       "      <th>1</th>\n",
       "      <td>D</td>\n",
       "      <td>F</td>\n",
       "      <td>1946-05-27</td>\n",
       "      <td>NC</td>\n",
       "      <td>1946</td>\n",
       "    </tr>\n",
       "  </tbody>\n",
       "</table>\n",
       "</div>"
      ],
      "text/plain": [
       "  party gender date_of_birth state  year_of_birth\n",
       "0     R      M    1954-09-16    LA           1954\n",
       "1     D      F    1946-05-27    NC           1946"
      ]
     },
     "execution_count": 26,
     "metadata": {},
     "output_type": "execute_result"
    }
   ],
   "source": [
    "obs_congress.head(2)"
   ]
  },
  {
   "cell_type": "markdown",
   "metadata": {
    "id": "41WUIfSBXEkD"
   },
   "source": [
    "\n",
    "\n"
   ]
  },
  {
   "cell_type": "code",
   "execution_count": 28,
   "metadata": {
    "executionInfo": {
     "elapsed": 6,
     "status": "ok",
     "timestamp": 1636739930629,
     "user": {
      "displayName": "Ahmed Zouaoui",
      "photoUrl": "https://lh3.googleusercontent.com/a/default-user=s64",
      "userId": "11340991357761390079"
     },
     "user_tz": -60
    },
    "id": "UjlnyPY4ZVK6"
   },
   "outputs": [],
   "source": [
    "obs_features = ['party' ,'gender','year_of_birth','state']\n",
    "obs_congress= pd.get_dummies(obs_congress[obs_features])"
   ]
  },
  {
   "cell_type": "code",
   "execution_count": 29,
   "metadata": {
    "colab": {
     "base_uri": "https://localhost:8080/",
     "height": 131
    },
    "executionInfo": {
     "elapsed": 15,
     "status": "ok",
     "timestamp": 1636739931037,
     "user": {
      "displayName": "Ahmed Zouaoui",
      "photoUrl": "https://lh3.googleusercontent.com/a/default-user=s64",
      "userId": "11340991357761390079"
     },
     "user_tz": -60
    },
    "id": "goBIYRXDfXeS",
    "outputId": "03470aa0-c8a4-4e67-ff59-ec5e2d73b379"
   },
   "outputs": [
    {
     "data": {
      "text/html": [
       "<div>\n",
       "<style scoped>\n",
       "    .dataframe tbody tr th:only-of-type {\n",
       "        vertical-align: middle;\n",
       "    }\n",
       "\n",
       "    .dataframe tbody tr th {\n",
       "        vertical-align: top;\n",
       "    }\n",
       "\n",
       "    .dataframe thead th {\n",
       "        text-align: right;\n",
       "    }\n",
       "</style>\n",
       "<table border=\"1\" class=\"dataframe\">\n",
       "  <thead>\n",
       "    <tr style=\"text-align: right;\">\n",
       "      <th></th>\n",
       "      <th>year_of_birth</th>\n",
       "      <th>party_D</th>\n",
       "      <th>party_R</th>\n",
       "      <th>gender_F</th>\n",
       "      <th>gender_M</th>\n",
       "      <th>state_AK</th>\n",
       "      <th>state_AL</th>\n",
       "      <th>state_AR</th>\n",
       "      <th>state_AZ</th>\n",
       "      <th>state_CA</th>\n",
       "      <th>state_CO</th>\n",
       "      <th>state_CT</th>\n",
       "      <th>state_DE</th>\n",
       "      <th>state_FL</th>\n",
       "      <th>state_GA</th>\n",
       "      <th>state_HI</th>\n",
       "      <th>state_IA</th>\n",
       "      <th>state_ID</th>\n",
       "      <th>state_IL</th>\n",
       "      <th>state_IN</th>\n",
       "      <th>state_KS</th>\n",
       "      <th>state_KY</th>\n",
       "      <th>state_LA</th>\n",
       "      <th>state_MA</th>\n",
       "      <th>state_MD</th>\n",
       "      <th>state_ME</th>\n",
       "      <th>state_MI</th>\n",
       "      <th>state_MN</th>\n",
       "      <th>state_MO</th>\n",
       "      <th>state_MS</th>\n",
       "      <th>state_MT</th>\n",
       "      <th>state_NC</th>\n",
       "      <th>state_ND</th>\n",
       "      <th>state_NE</th>\n",
       "      <th>state_NH</th>\n",
       "      <th>state_NJ</th>\n",
       "      <th>state_NM</th>\n",
       "      <th>state_NV</th>\n",
       "      <th>state_NY</th>\n",
       "      <th>state_OH</th>\n",
       "      <th>state_OK</th>\n",
       "      <th>state_OR</th>\n",
       "      <th>state_PA</th>\n",
       "      <th>state_RI</th>\n",
       "      <th>state_SC</th>\n",
       "      <th>state_SD</th>\n",
       "      <th>state_TN</th>\n",
       "      <th>state_TX</th>\n",
       "      <th>state_UT</th>\n",
       "      <th>state_VA</th>\n",
       "      <th>state_VT</th>\n",
       "      <th>state_WA</th>\n",
       "      <th>state_WI</th>\n",
       "      <th>state_WV</th>\n",
       "      <th>state_WY</th>\n",
       "    </tr>\n",
       "  </thead>\n",
       "  <tbody>\n",
       "    <tr>\n",
       "      <th>0</th>\n",
       "      <td>1954</td>\n",
       "      <td>0</td>\n",
       "      <td>1</td>\n",
       "      <td>0</td>\n",
       "      <td>1</td>\n",
       "      <td>0</td>\n",
       "      <td>0</td>\n",
       "      <td>0</td>\n",
       "      <td>0</td>\n",
       "      <td>0</td>\n",
       "      <td>0</td>\n",
       "      <td>0</td>\n",
       "      <td>0</td>\n",
       "      <td>0</td>\n",
       "      <td>0</td>\n",
       "      <td>0</td>\n",
       "      <td>0</td>\n",
       "      <td>0</td>\n",
       "      <td>0</td>\n",
       "      <td>0</td>\n",
       "      <td>0</td>\n",
       "      <td>0</td>\n",
       "      <td>1</td>\n",
       "      <td>0</td>\n",
       "      <td>0</td>\n",
       "      <td>0</td>\n",
       "      <td>0</td>\n",
       "      <td>0</td>\n",
       "      <td>0</td>\n",
       "      <td>0</td>\n",
       "      <td>0</td>\n",
       "      <td>0</td>\n",
       "      <td>0</td>\n",
       "      <td>0</td>\n",
       "      <td>0</td>\n",
       "      <td>0</td>\n",
       "      <td>0</td>\n",
       "      <td>0</td>\n",
       "      <td>0</td>\n",
       "      <td>0</td>\n",
       "      <td>0</td>\n",
       "      <td>0</td>\n",
       "      <td>0</td>\n",
       "      <td>0</td>\n",
       "      <td>0</td>\n",
       "      <td>0</td>\n",
       "      <td>0</td>\n",
       "      <td>0</td>\n",
       "      <td>0</td>\n",
       "      <td>0</td>\n",
       "      <td>0</td>\n",
       "      <td>0</td>\n",
       "      <td>0</td>\n",
       "      <td>0</td>\n",
       "      <td>0</td>\n",
       "    </tr>\n",
       "    <tr>\n",
       "      <th>1</th>\n",
       "      <td>1946</td>\n",
       "      <td>1</td>\n",
       "      <td>0</td>\n",
       "      <td>1</td>\n",
       "      <td>0</td>\n",
       "      <td>0</td>\n",
       "      <td>0</td>\n",
       "      <td>0</td>\n",
       "      <td>0</td>\n",
       "      <td>0</td>\n",
       "      <td>0</td>\n",
       "      <td>0</td>\n",
       "      <td>0</td>\n",
       "      <td>0</td>\n",
       "      <td>0</td>\n",
       "      <td>0</td>\n",
       "      <td>0</td>\n",
       "      <td>0</td>\n",
       "      <td>0</td>\n",
       "      <td>0</td>\n",
       "      <td>0</td>\n",
       "      <td>0</td>\n",
       "      <td>0</td>\n",
       "      <td>0</td>\n",
       "      <td>0</td>\n",
       "      <td>0</td>\n",
       "      <td>0</td>\n",
       "      <td>0</td>\n",
       "      <td>0</td>\n",
       "      <td>0</td>\n",
       "      <td>0</td>\n",
       "      <td>1</td>\n",
       "      <td>0</td>\n",
       "      <td>0</td>\n",
       "      <td>0</td>\n",
       "      <td>0</td>\n",
       "      <td>0</td>\n",
       "      <td>0</td>\n",
       "      <td>0</td>\n",
       "      <td>0</td>\n",
       "      <td>0</td>\n",
       "      <td>0</td>\n",
       "      <td>0</td>\n",
       "      <td>0</td>\n",
       "      <td>0</td>\n",
       "      <td>0</td>\n",
       "      <td>0</td>\n",
       "      <td>0</td>\n",
       "      <td>0</td>\n",
       "      <td>0</td>\n",
       "      <td>0</td>\n",
       "      <td>0</td>\n",
       "      <td>0</td>\n",
       "      <td>0</td>\n",
       "      <td>0</td>\n",
       "    </tr>\n",
       "  </tbody>\n",
       "</table>\n",
       "</div>"
      ],
      "text/plain": [
       "   year_of_birth  party_D  party_R  ...  state_WI  state_WV  state_WY\n",
       "0           1954        0        1  ...         0         0         0\n",
       "1           1946        1        0  ...         0         0         0\n",
       "\n",
       "[2 rows x 55 columns]"
      ]
     },
     "execution_count": 29,
     "metadata": {},
     "output_type": "execute_result"
    }
   ],
   "source": [
    "obs_congress.head(2)"
   ]
  },
  {
   "cell_type": "code",
   "execution_count": 29,
   "metadata": {
    "executionInfo": {
     "elapsed": 12,
     "status": "ok",
     "timestamp": 1636739931039,
     "user": {
      "displayName": "Ahmed Zouaoui",
      "photoUrl": "https://lh3.googleusercontent.com/a/default-user=s64",
      "userId": "11340991357761390079"
     },
     "user_tz": -60
    },
    "id": "Ogu_M-F_lwLp"
   },
   "outputs": [],
   "source": []
  },
  {
   "cell_type": "code",
   "execution_count": 30,
   "metadata": {
    "executionInfo": {
     "elapsed": 3,
     "status": "ok",
     "timestamp": 1636739932141,
     "user": {
      "displayName": "Ahmed Zouaoui",
      "photoUrl": "https://lh3.googleusercontent.com/a/default-user=s64",
      "userId": "11340991357761390079"
     },
     "user_tz": -60
    },
    "id": "tNz5YkUaguft"
   },
   "outputs": [],
   "source": [
    "# We normalize continuous variables mainly the date of birth \n",
    "\n",
    "obs_congress['year_of_birth']=(obs_congress['year_of_birth'] - obs_congress['year_of_birth'].mean())/obs_congress['year_of_birth'].std()"
   ]
  },
  {
   "cell_type": "code",
   "execution_count": 31,
   "metadata": {
    "executionInfo": {
     "elapsed": 5,
     "status": "ok",
     "timestamp": 1636739933053,
     "user": {
      "displayName": "Ahmed Zouaoui",
      "photoUrl": "https://lh3.googleusercontent.com/a/default-user=s64",
      "userId": "11340991357761390079"
     },
     "user_tz": -60
    },
    "id": "XX4SIGWloode"
   },
   "outputs": [],
   "source": [
    "all_columns =  list(obs_congress.columns) #\"+\".join"
   ]
  },
  {
   "cell_type": "code",
   "execution_count": 32,
   "metadata": {
    "executionInfo": {
     "elapsed": 5,
     "status": "ok",
     "timestamp": 1636739934073,
     "user": {
      "displayName": "Ahmed Zouaoui",
      "photoUrl": "https://lh3.googleusercontent.com/a/default-user=s64",
      "userId": "11340991357761390079"
     },
     "user_tz": -60
    },
    "id": "0ED4uoT5J-Bn"
   },
   "outputs": [],
   "source": [
    "all_columns.remove(\"party_D\")\n",
    "all_columns.remove(\"party_R\")"
   ]
  },
  {
   "cell_type": "code",
   "execution_count": 33,
   "metadata": {
    "executionInfo": {
     "elapsed": 5,
     "status": "ok",
     "timestamp": 1636739934788,
     "user": {
      "displayName": "Ahmed Zouaoui",
      "photoUrl": "https://lh3.googleusercontent.com/a/default-user=s64",
      "userId": "11340991357761390079"
     },
     "user_tz": -60
    },
    "id": "bI7CO-dGJuwu"
   },
   "outputs": [],
   "source": [
    "model=\"party_R~\" + ' + '.join(all_columns)"
   ]
  },
  {
   "cell_type": "markdown",
   "metadata": {
    "id": "yoZAmqDZPrQd"
   },
   "source": []
  },
  {
   "cell_type": "code",
   "execution_count": 34,
   "metadata": {
    "colab": {
     "base_uri": "https://localhost:8080/",
     "height": 69
    },
    "executionInfo": {
     "elapsed": 845,
     "status": "ok",
     "timestamp": 1636739936552,
     "user": {
      "displayName": "Ahmed Zouaoui",
      "photoUrl": "https://lh3.googleusercontent.com/a/default-user=s64",
      "userId": "11340991357761390079"
     },
     "user_tz": -60
    },
    "id": "LysPIICGK8Hh",
    "outputId": "ed5c4bbe-dc81-4c64-8213-ab0b09211aee"
   },
   "outputs": [
    {
     "data": {
      "application/vnd.google.colaboratory.intrinsic+json": {
       "type": "string"
      },
      "text/plain": [
       "'party_R~year_of_birth + gender_F + gender_M + state_AK + state_AL + state_AR + state_AZ + state_CA + state_CO + state_CT + state_DE + state_FL + state_GA + state_HI + state_IA + state_ID + state_IL + state_IN + state_KS + state_KY + state_LA + state_MA + state_MD + state_ME + state_MI + state_MN + state_MO + state_MS + state_MT + state_NC + state_ND + state_NE + state_NH + state_NJ + state_NM + state_NV + state_NY + state_OH + state_OK + state_OR + state_PA + state_RI + state_SC + state_SD + state_TN + state_TX + state_UT + state_VA + state_VT + state_WA + state_WI + state_WV + state_WY'"
      ]
     },
     "execution_count": 34,
     "metadata": {},
     "output_type": "execute_result"
    }
   ],
   "source": [
    "model"
   ]
  },
  {
   "cell_type": "code",
   "execution_count": 35,
   "metadata": {
    "colab": {
     "base_uri": "https://localhost:8080/"
    },
    "executionInfo": {
     "elapsed": 22,
     "status": "ok",
     "timestamp": 1636739936553,
     "user": {
      "displayName": "Ahmed Zouaoui",
      "photoUrl": "https://lh3.googleusercontent.com/a/default-user=s64",
      "userId": "11340991357761390079"
     },
     "user_tz": -60
    },
    "id": "iyCeSgOfb5q4",
    "outputId": "321a0c90-d547-4615-81c1-8691b463307b"
   },
   "outputs": [
    {
     "name": "stdout",
     "output_type": "stream",
     "text": [
      "Warning: Maximum number of iterations has been exceeded.\n",
      "         Current function value: 0.415979\n",
      "         Iterations: 35\n",
      "                           Logit Regression Results                           \n",
      "==============================================================================\n",
      "Dep. Variable:                party_R   No. Observations:                  386\n",
      "Model:                          Logit   Df Residuals:                      334\n",
      "Method:                           MLE   Df Model:                           51\n",
      "Date:                Fri, 12 Nov 2021   Pseudo R-squ.:                  0.3996\n",
      "Time:                        17:58:55   Log-Likelihood:                -160.57\n",
      "converged:                      False   LL-Null:                       -267.43\n",
      "Covariance Type:            nonrobust   LLR p-value:                 8.321e-22\n",
      "=================================================================================\n",
      "                    coef    std err          z      P>|z|      [0.025      0.975]\n",
      "---------------------------------------------------------------------------------\n",
      "Intercept        -0.4147        nan        nan        nan         nan         nan\n",
      "year_of_birth     0.5421      0.156      3.478      0.001       0.237       0.848\n",
      "gender_F         -1.1399   1.06e+07  -1.08e-07      1.000   -2.07e+07    2.07e+07\n",
      "gender_M          0.7252   1.06e+07   6.86e-08      1.000   -2.07e+07    2.07e+07\n",
      "state_AK         24.8011   1.68e+07   1.48e-06      1.000   -3.28e+07    3.28e+07\n",
      "state_AL          2.2477   1.68e+07   1.34e-07      1.000   -3.28e+07    3.28e+07\n",
      "state_AR         20.9772   1.68e+07   1.25e-06      1.000   -3.28e+07    3.28e+07\n",
      "state_AZ         -0.3422   1.68e+07  -2.04e-08      1.000   -3.28e+07    3.28e+07\n",
      "state_CA         -2.1313   1.68e+07  -1.27e-07      1.000   -3.28e+07    3.28e+07\n",
      "state_CO          0.1466   1.68e+07   8.75e-09      1.000   -3.28e+07    3.28e+07\n",
      "state_CT        -25.4726   1.68e+07  -1.52e-06      1.000   -3.29e+07    3.29e+07\n",
      "state_DE        -20.3645   1.68e+07  -1.22e-06      1.000   -3.28e+07    3.28e+07\n",
      "state_FL          0.1851   1.68e+07    1.1e-08      1.000   -3.28e+07    3.28e+07\n",
      "state_GA          0.8129   1.68e+07   4.85e-08      1.000   -3.28e+07    3.28e+07\n",
      "state_HI        -24.6693   1.68e+07  -1.47e-06      1.000   -3.29e+07    3.29e+07\n",
      "state_IA          1.6398   1.68e+07   9.78e-08      1.000   -3.28e+07    3.28e+07\n",
      "state_ID         34.5434   2.34e+07   1.48e-06      1.000   -4.58e+07    4.58e+07\n",
      "state_IL         -0.9909   1.68e+07  -5.91e-08      1.000   -3.28e+07    3.28e+07\n",
      "state_IN          0.9203   1.68e+07   5.49e-08      1.000   -3.28e+07    3.28e+07\n",
      "state_KS         22.3343   1.68e+07   1.33e-06      1.000   -3.28e+07    3.28e+07\n",
      "state_KY          1.7641   1.68e+07   1.05e-07      1.000   -3.28e+07    3.28e+07\n",
      "state_LA          1.2275   1.68e+07   7.32e-08      1.000   -3.28e+07    3.28e+07\n",
      "state_MA        -26.8230   1.68e+07   -1.6e-06      1.000   -3.29e+07    3.29e+07\n",
      "state_MD         -1.8233   1.68e+07  -1.09e-07      1.000   -3.28e+07    3.28e+07\n",
      "state_ME          1.7649   1.68e+07   1.05e-07      1.000   -3.28e+07    3.28e+07\n",
      "state_MI          0.5120   1.68e+07   3.05e-08      1.000   -3.28e+07    3.28e+07\n",
      "state_MN         -0.5154   1.68e+07  -3.08e-08      1.000   -3.28e+07    3.28e+07\n",
      "state_MO          1.3735   1.68e+07   8.19e-08      1.000   -3.28e+07    3.28e+07\n",
      "state_MS          0.2342   1.68e+07    1.4e-08      1.000   -3.28e+07    3.28e+07\n",
      "state_MT         -0.3764   1.68e+07  -2.25e-08      1.000   -3.28e+07    3.28e+07\n",
      "state_NC          1.2426   1.68e+07   7.41e-08      1.000   -3.28e+07    3.28e+07\n",
      "state_ND         17.2995   1.68e+07   1.03e-06      1.000   -3.28e+07    3.28e+07\n",
      "state_NE         23.3880   1.68e+07    1.4e-06      1.000   -3.28e+07    3.28e+07\n",
      "state_NH        -22.6655   1.68e+07  -1.35e-06      1.000   -3.29e+07    3.29e+07\n",
      "state_NJ         -2.3202   1.68e+07  -1.38e-07      1.000   -3.28e+07    3.28e+07\n",
      "state_NM        -20.3006   1.68e+07  -1.21e-06      1.000   -3.28e+07    3.28e+07\n",
      "state_NV          0.1282   1.68e+07   7.65e-09      1.000   -3.28e+07    3.28e+07\n",
      "state_NY         -1.2126   1.68e+07  -7.24e-08      1.000   -3.28e+07    3.28e+07\n",
      "state_OH          1.2367   1.68e+07   7.38e-08      1.000   -3.28e+07    3.28e+07\n",
      "state_OK         13.3118   1.68e+07   7.94e-07      1.000   -3.28e+07    3.28e+07\n",
      "state_OR         -1.6531   1.68e+07  -9.86e-08      1.000   -3.28e+07    3.28e+07\n",
      "state_PA         -0.0910   1.68e+07  -5.43e-09      1.000   -3.28e+07    3.28e+07\n",
      "state_RI        -51.4772   6.39e+10  -8.05e-10      1.000   -1.25e+11    1.25e+11\n",
      "state_SC          1.3700   1.68e+07   8.17e-08      1.000   -3.28e+07    3.28e+07\n",
      "state_SD         24.2816   1.68e+07   1.45e-06      1.000   -3.29e+07    3.29e+07\n",
      "state_TN          0.8229   1.68e+07   4.91e-08      1.000   -3.28e+07    3.28e+07\n",
      "state_TX          0.7430   1.68e+07   4.43e-08      1.000   -3.28e+07    3.28e+07\n",
      "state_UT         14.8592   1.68e+07   8.87e-07      1.000   -3.28e+07    3.28e+07\n",
      "state_VA         -1.2698   1.68e+07  -7.58e-08      1.000   -3.28e+07    3.28e+07\n",
      "state_VT        -29.1574   1.69e+07  -1.73e-06      1.000    -3.3e+07     3.3e+07\n",
      "state_WA         -0.7513   1.68e+07  -4.48e-08      1.000   -3.28e+07    3.28e+07\n",
      "state_WI          0.1804   1.68e+07   1.08e-08      1.000   -3.28e+07    3.28e+07\n",
      "state_WV          0.5780   1.68e+07   3.45e-08      1.000   -3.28e+07    3.28e+07\n",
      "state_WY         19.0665   1.68e+07   1.14e-06      1.000   -3.28e+07    3.28e+07\n",
      "=================================================================================\n",
      "\n",
      "Possibly complete quasi-separation: A fraction 0.15 of observations can be\n",
      "perfectly predicted. This might indicate that there is complete\n",
      "quasi-separation. In this case some parameters will not be identified.\n"
     ]
    },
    {
     "name": "stderr",
     "output_type": "stream",
     "text": [
      "/usr/local/lib/python3.7/dist-packages/statsmodels/base/model.py:512: ConvergenceWarning: Maximum Likelihood optimization failed to converge. Check mle_retvals\n",
      "  \"Check mle_retvals\", ConvergenceWarning)\n",
      "/usr/local/lib/python3.7/dist-packages/statsmodels/base/model.py:1286: RuntimeWarning: invalid value encountered in sqrt\n",
      "  bse_ = np.sqrt(np.diag(self.cov_params()))\n"
     ]
    }
   ],
   "source": [
    "mod = smf.logit(formula=model, data=obs_congress)\n",
    "\n",
    "res = mod.fit()\n",
    "\n",
    "# Extract the estimated propensity scores\n",
    "obs_congress['Propensity_score'] = res.predict()\n",
    "\n",
    "print(res.summary())"
   ]
  },
  {
   "cell_type": "markdown",
   "metadata": {
    "id": "omhV-7Dzbz2I"
   },
   "source": [
    "# Summary of observed covariate analysis\n",
    "\n",
    "We clearly see that age and gender are not covariate of concern (low coefficients:  0.5421 for age and -1.1399 for women). Indeed, both parties have politicians that tend to be old and have a similar proportion of women.\n",
    "\n",
    "However, we can see that states play a big role  in determening the political party of the candidate.  A state with a lot of democrats like Rhode Island for example has a coefficient of -51.47 ! While on the other side of the spectrum a republican state like Indiana has 34.54. \n",
    "Some states are in the middle and have a split repartition like Florida with a coefficient of 0.18. \n",
    "\n",
    "Therefore we should be cautious about our analysis as states are covariate to take into account when interpreting the final results!"
   ]
  },
  {
   "cell_type": "code",
   "execution_count": 15,
   "metadata": {
    "executionInfo": {
     "elapsed": 11,
     "status": "ok",
     "timestamp": 1636739386511,
     "user": {
      "displayName": "Ahmed Zouaoui",
      "photoUrl": "https://lh3.googleusercontent.com/a/default-user=s64",
      "userId": "11340991357761390079"
     },
     "user_tz": -60
    },
    "id": "N8MsUsgJMZU8"
   },
   "outputs": [],
   "source": []
  }
 ],
 "metadata": {
  "colab": {
   "authorship_tag": "ABX9TyOCNuDtF8i9w4JkiLaTKzlj",
   "collapsed_sections": [],
   "name": "observational_studies.ipynb",
   "provenance": []
  },
  "kernelspec": {
   "display_name": "Python 3",
   "language": "python",
   "name": "python3"
  },
  "language_info": {
   "codemirror_mode": {
    "name": "ipython",
    "version": 3
   },
   "file_extension": ".py",
   "mimetype": "text/x-python",
   "name": "python",
   "nbconvert_exporter": "python",
   "pygments_lexer": "ipython3",
   "version": "3.8.8"
  }
 },
 "nbformat": 4,
 "nbformat_minor": 1
}
