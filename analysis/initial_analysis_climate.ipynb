{
 "cells": [
  {
   "cell_type": "code",
   "execution_count": 1,
   "metadata": {
    "colab": {
     "base_uri": "https://localhost:8080/"
    },
    "id": "BGNwkr_FMuYC",
    "outputId": "0f0340c8-7933-49c0-f536-e1dcf2194f3c"
   },
   "outputs": [
    {
     "name": "stdout",
     "output_type": "stream",
     "text": [
      "Drive already mounted at /content/drive; to attempt to forcibly remount, call drive.mount(\"/content/drive\", force_remount=True).\n"
     ]
    }
   ],
   "source": [
    "from google.colab import drive\n",
    "drive.mount('/content/drive')"
   ]
  },
  {
   "cell_type": "code",
   "execution_count": 2,
   "metadata": {
    "id": "YnbWNUaEMxQ7"
   },
   "outputs": [],
   "source": [
    "import bz2\n",
    "import json\n",
    "import pandas as pd\n",
    "import numpy as np\n",
    "import seaborn as sns\n",
    "import matplotlib.pyplot as plt"
   ]
  },
  {
   "cell_type": "code",
   "execution_count": 3,
   "metadata": {
    "id": "2SpFtOBuQQQ9"
   },
   "outputs": [],
   "source": [
    "# Members of the intersection of both the 115th and 116th US Congress\n",
    "# All of these members where there during the whole 2016-2020 period (both 115th & 116th congress)\n",
    "df_congress = pd.read_csv(\"/content/drive/MyDrive/ADA/congress_115_116.csv\")"
   ]
  },
  {
   "cell_type": "code",
   "execution_count": 4,
   "metadata": {
    "colab": {
     "base_uri": "https://localhost:8080/",
     "height": 206
    },
    "id": "XNBi8-thQ-WI",
    "outputId": "1ab68d8e-656e-48d9-c649-bc7fed1de5db"
   },
   "outputs": [
    {
     "data": {
      "text/html": [
       "<div>\n",
       "<style scoped>\n",
       "    .dataframe tbody tr th:only-of-type {\n",
       "        vertical-align: middle;\n",
       "    }\n",
       "\n",
       "    .dataframe tbody tr th {\n",
       "        vertical-align: top;\n",
       "    }\n",
       "\n",
       "    .dataframe thead th {\n",
       "        text-align: right;\n",
       "    }\n",
       "</style>\n",
       "<table border=\"1\" class=\"dataframe\">\n",
       "  <thead>\n",
       "    <tr style=\"text-align: right;\">\n",
       "      <th></th>\n",
       "      <th>Unnamed: 0</th>\n",
       "      <th>fec_candidate_id</th>\n",
       "      <th>speaker</th>\n",
       "      <th>short_title</th>\n",
       "      <th>last_name</th>\n",
       "      <th>first_name</th>\n",
       "      <th>party</th>\n",
       "      <th>date_of_birth</th>\n",
       "      <th>gender</th>\n",
       "      <th>state</th>\n",
       "    </tr>\n",
       "  </thead>\n",
       "  <tbody>\n",
       "    <tr>\n",
       "      <th>0</th>\n",
       "      <td>0</td>\n",
       "      <td>H4LA05221</td>\n",
       "      <td>ralph abraham</td>\n",
       "      <td>Rep.</td>\n",
       "      <td>Abraham</td>\n",
       "      <td>Ralph</td>\n",
       "      <td>R</td>\n",
       "      <td>1954-09-16</td>\n",
       "      <td>M</td>\n",
       "      <td>LA</td>\n",
       "    </tr>\n",
       "    <tr>\n",
       "      <th>1</th>\n",
       "      <td>1</td>\n",
       "      <td>H4NC12100</td>\n",
       "      <td>alma adams</td>\n",
       "      <td>Rep.</td>\n",
       "      <td>Adams</td>\n",
       "      <td>Alma</td>\n",
       "      <td>D</td>\n",
       "      <td>1946-05-27</td>\n",
       "      <td>F</td>\n",
       "      <td>NC</td>\n",
       "    </tr>\n",
       "    <tr>\n",
       "      <th>2</th>\n",
       "      <td>2</td>\n",
       "      <td>H6AL04098</td>\n",
       "      <td>robert aderholt</td>\n",
       "      <td>Rep.</td>\n",
       "      <td>Aderholt</td>\n",
       "      <td>Robert</td>\n",
       "      <td>R</td>\n",
       "      <td>1965-07-22</td>\n",
       "      <td>M</td>\n",
       "      <td>AL</td>\n",
       "    </tr>\n",
       "    <tr>\n",
       "      <th>3</th>\n",
       "      <td>3</td>\n",
       "      <td>H2CA31125</td>\n",
       "      <td>pete aguilar</td>\n",
       "      <td>Rep.</td>\n",
       "      <td>Aguilar</td>\n",
       "      <td>Pete</td>\n",
       "      <td>D</td>\n",
       "      <td>1979-06-19</td>\n",
       "      <td>M</td>\n",
       "      <td>CA</td>\n",
       "    </tr>\n",
       "    <tr>\n",
       "      <th>4</th>\n",
       "      <td>4</td>\n",
       "      <td>H2GA12121</td>\n",
       "      <td>rick allen</td>\n",
       "      <td>Rep.</td>\n",
       "      <td>Allen</td>\n",
       "      <td>Rick</td>\n",
       "      <td>R</td>\n",
       "      <td>1951-11-07</td>\n",
       "      <td>M</td>\n",
       "      <td>GA</td>\n",
       "    </tr>\n",
       "  </tbody>\n",
       "</table>\n",
       "</div>"
      ],
      "text/plain": [
       "   Unnamed: 0 fec_candidate_id          speaker  ... date_of_birth gender state\n",
       "0           0        H4LA05221    ralph abraham  ...    1954-09-16      M    LA\n",
       "1           1        H4NC12100       alma adams  ...    1946-05-27      F    NC\n",
       "2           2        H6AL04098  robert aderholt  ...    1965-07-22      M    AL\n",
       "3           3        H2CA31125     pete aguilar  ...    1979-06-19      M    CA\n",
       "4           4        H2GA12121       rick allen  ...    1951-11-07      M    GA\n",
       "\n",
       "[5 rows x 10 columns]"
      ]
     },
     "execution_count": 4,
     "metadata": {},
     "output_type": "execute_result"
    }
   ],
   "source": [
    "df_congress.head()"
   ]
  },
  {
   "cell_type": "code",
   "execution_count": 5,
   "metadata": {
    "colab": {
     "base_uri": "https://localhost:8080/"
    },
    "id": "YOmMBmsqM98o",
    "outputId": "815d8f6b-4402-4380-c2e6-caa70ea024c9"
   },
   "outputs": [
    {
     "name": "stdout",
     "output_type": "stream",
     "text": [
      "CPU times: user 23.5 s, sys: 800 ms, total: 24.3 s\n",
      "Wall time: 24.3 s\n"
     ]
    }
   ],
   "source": [
    "%%time \n",
    "# link to the Drive repo + the year of the newpapers quotes\n",
    "path_to_file = '/content/drive/MyDrive/ADA/quotes-2017-congress-speakers.json.bz2'\n",
    "# here the data is in the ADA folder placed at the root of your Drive\n",
    "\n",
    "df_quotes_2017 = []\n",
    "with bz2.open(path_to_file, 'rb') as s_file:\n",
    "    for i, sample in enumerate(s_file):\n",
    "      quote = json.loads(sample)\n",
    "      df_quotes_2017.append(quote)"
   ]
  },
  {
   "cell_type": "code",
   "execution_count": 6,
   "metadata": {
    "colab": {
     "base_uri": "https://localhost:8080/",
     "height": 293
    },
    "id": "17SJBuXRNNch",
    "outputId": "78e02093-ad9a-4880-dc73-3377741c48c7"
   },
   "outputs": [
    {
     "data": {
      "text/html": [
       "<div>\n",
       "<style scoped>\n",
       "    .dataframe tbody tr th:only-of-type {\n",
       "        vertical-align: middle;\n",
       "    }\n",
       "\n",
       "    .dataframe tbody tr th {\n",
       "        vertical-align: top;\n",
       "    }\n",
       "\n",
       "    .dataframe thead th {\n",
       "        text-align: right;\n",
       "    }\n",
       "</style>\n",
       "<table border=\"1\" class=\"dataframe\">\n",
       "  <thead>\n",
       "    <tr style=\"text-align: right;\">\n",
       "      <th></th>\n",
       "      <th>quoteID</th>\n",
       "      <th>quotation</th>\n",
       "      <th>speaker</th>\n",
       "      <th>qids</th>\n",
       "      <th>date</th>\n",
       "      <th>numOccurrences</th>\n",
       "      <th>probas</th>\n",
       "      <th>urls</th>\n",
       "      <th>phase</th>\n",
       "    </tr>\n",
       "  </thead>\n",
       "  <tbody>\n",
       "    <tr>\n",
       "      <th>0</th>\n",
       "      <td>2017-10-31-000480</td>\n",
       "      <td>[ Opioid abuse ] is straining the resources of...</td>\n",
       "      <td>Bob Casey</td>\n",
       "      <td>[Q2907612]</td>\n",
       "      <td>2017-10-31 19:58:24</td>\n",
       "      <td>1</td>\n",
       "      <td>[[Bob Casey, 0.5118], [None, 0.3882], [Preside...</td>\n",
       "      <td>[http://thedailybeast.com/two-critical-republi...</td>\n",
       "      <td>E</td>\n",
       "    </tr>\n",
       "    <tr>\n",
       "      <th>1</th>\n",
       "      <td>2017-10-31-000757</td>\n",
       "      <td>... was into Elliott's rear bumper 100 feet be...</td>\n",
       "      <td>Rick Allen</td>\n",
       "      <td>[Q16226019, Q30122355, Q323356, Q7331191]</td>\n",
       "      <td>2017-10-31 05:11:43</td>\n",
       "      <td>1</td>\n",
       "      <td>[[Rick Allen, 0.7902], [Denny Hamlin, 0.1182],...</td>\n",
       "      <td>[https://www.frontstretch.com/2017/10/31/couch...</td>\n",
       "      <td>E</td>\n",
       "    </tr>\n",
       "    <tr>\n",
       "      <th>2</th>\n",
       "      <td>2017-07-26-084102</td>\n",
       "      <td>Jeff Sessions is one of the most decent people...</td>\n",
       "      <td>Lindsey Graham</td>\n",
       "      <td>[Q22212]</td>\n",
       "      <td>2017-07-26 16:56:24</td>\n",
       "      <td>1</td>\n",
       "      <td>[[Lindsey Graham, 0.933], [None, 0.0338], [Ric...</td>\n",
       "      <td>[http://news.vice.com/story/trump-actually-has...</td>\n",
       "      <td>E</td>\n",
       "    </tr>\n",
       "    <tr>\n",
       "      <th>3</th>\n",
       "      <td>2017-06-15-000974</td>\n",
       "      <td>50 Years of Breaking Barriers and Building Fut...</td>\n",
       "      <td>Maxine Waters</td>\n",
       "      <td>[Q461727]</td>\n",
       "      <td>2017-06-15 00:00:57</td>\n",
       "      <td>1</td>\n",
       "      <td>[[Maxine Waters, 0.8347], [None, 0.1653]]</td>\n",
       "      <td>[https://lasentinel.net/rep-waters-delivers-ke...</td>\n",
       "      <td>E</td>\n",
       "    </tr>\n",
       "    <tr>\n",
       "      <th>4</th>\n",
       "      <td>2017-07-28-001488</td>\n",
       "      <td>A disappointment indeed... Our friends on the ...</td>\n",
       "      <td>Mitch McConnell</td>\n",
       "      <td>[Q355522]</td>\n",
       "      <td>2017-07-28 16:00:08</td>\n",
       "      <td>1</td>\n",
       "      <td>[[Mitch McConnell, 0.6749], [None, 0.2717], [C...</td>\n",
       "      <td>[http://www.opposingviews.com/i/society/reacti...</td>\n",
       "      <td>E</td>\n",
       "    </tr>\n",
       "  </tbody>\n",
       "</table>\n",
       "</div>"
      ],
      "text/plain": [
       "             quoteID  ... phase\n",
       "0  2017-10-31-000480  ...     E\n",
       "1  2017-10-31-000757  ...     E\n",
       "2  2017-07-26-084102  ...     E\n",
       "3  2017-06-15-000974  ...     E\n",
       "4  2017-07-28-001488  ...     E\n",
       "\n",
       "[5 rows x 9 columns]"
      ]
     },
     "execution_count": 6,
     "metadata": {},
     "output_type": "execute_result"
    }
   ],
   "source": [
    "# Transforming the array of quotes in a pandas DataFrame\n",
    "df_quotes_2017 = pd.DataFrame(df_quotes_2017)\n",
    "df_quotes_2017.head()"
   ]
  },
  {
   "cell_type": "code",
   "execution_count": 7,
   "metadata": {
    "colab": {
     "base_uri": "https://localhost:8080/",
     "height": 591
    },
    "id": "YRro81COKomg",
    "outputId": "f8393fa4-55d6-4843-a5f1-4de60fa3769f"
   },
   "outputs": [
    {
     "data": {
      "text/html": [
       "<div>\n",
       "<style scoped>\n",
       "    .dataframe tbody tr th:only-of-type {\n",
       "        vertical-align: middle;\n",
       "    }\n",
       "\n",
       "    .dataframe tbody tr th {\n",
       "        vertical-align: top;\n",
       "    }\n",
       "\n",
       "    .dataframe thead th {\n",
       "        text-align: right;\n",
       "    }\n",
       "</style>\n",
       "<table border=\"1\" class=\"dataframe\">\n",
       "  <thead>\n",
       "    <tr style=\"text-align: right;\">\n",
       "      <th></th>\n",
       "      <th>aliases</th>\n",
       "      <th>date_of_birth</th>\n",
       "      <th>nationality</th>\n",
       "      <th>gender</th>\n",
       "      <th>lastrevid</th>\n",
       "      <th>ethnic_group</th>\n",
       "      <th>US_congress_bio_ID</th>\n",
       "      <th>occupation</th>\n",
       "      <th>party</th>\n",
       "      <th>academic_degree</th>\n",
       "      <th>id</th>\n",
       "      <th>label</th>\n",
       "      <th>candidacy</th>\n",
       "      <th>type</th>\n",
       "      <th>religion</th>\n",
       "    </tr>\n",
       "  </thead>\n",
       "  <tbody>\n",
       "    <tr>\n",
       "      <th>0</th>\n",
       "      <td>[Washington, President Washington, G. Washingt...</td>\n",
       "      <td>[+1732-02-22T00:00:00Z]</td>\n",
       "      <td>[Q161885, Q30]</td>\n",
       "      <td>[Q6581097]</td>\n",
       "      <td>1395141751</td>\n",
       "      <td>None</td>\n",
       "      <td>W000178</td>\n",
       "      <td>[Q82955, Q189290, Q131512, Q1734662, Q294126, ...</td>\n",
       "      <td>[Q327591]</td>\n",
       "      <td>None</td>\n",
       "      <td>Q23</td>\n",
       "      <td>George Washington</td>\n",
       "      <td>[Q698073, Q697949]</td>\n",
       "      <td>item</td>\n",
       "      <td>[Q682443]</td>\n",
       "    </tr>\n",
       "    <tr>\n",
       "      <th>1</th>\n",
       "      <td>[Douglas Noel Adams, Douglas Noël Adams, Dougl...</td>\n",
       "      <td>[+1952-03-11T00:00:00Z]</td>\n",
       "      <td>[Q145]</td>\n",
       "      <td>[Q6581097]</td>\n",
       "      <td>1395737157</td>\n",
       "      <td>[Q7994501]</td>\n",
       "      <td>None</td>\n",
       "      <td>[Q214917, Q28389, Q6625963, Q4853732, Q1884422...</td>\n",
       "      <td>None</td>\n",
       "      <td>None</td>\n",
       "      <td>Q42</td>\n",
       "      <td>Douglas Adams</td>\n",
       "      <td>None</td>\n",
       "      <td>item</td>\n",
       "      <td>None</td>\n",
       "    </tr>\n",
       "    <tr>\n",
       "      <th>2</th>\n",
       "      <td>[Paul Marie Ghislain Otlet, Paul Marie Otlet]</td>\n",
       "      <td>[+1868-08-23T00:00:00Z]</td>\n",
       "      <td>[Q31]</td>\n",
       "      <td>[Q6581097]</td>\n",
       "      <td>1380367296</td>\n",
       "      <td>None</td>\n",
       "      <td>None</td>\n",
       "      <td>[Q36180, Q40348, Q182436, Q1265807, Q205375, Q...</td>\n",
       "      <td>None</td>\n",
       "      <td>None</td>\n",
       "      <td>Q1868</td>\n",
       "      <td>Paul Otlet</td>\n",
       "      <td>None</td>\n",
       "      <td>item</td>\n",
       "      <td>None</td>\n",
       "    </tr>\n",
       "    <tr>\n",
       "      <th>3</th>\n",
       "      <td>[George Walker Bush, Bush Jr., Dubya, GWB, Bus...</td>\n",
       "      <td>[+1946-07-06T00:00:00Z]</td>\n",
       "      <td>[Q30]</td>\n",
       "      <td>[Q6581097]</td>\n",
       "      <td>1395142029</td>\n",
       "      <td>None</td>\n",
       "      <td>None</td>\n",
       "      <td>[Q82955, Q15982858, Q18814623, Q1028181, Q1408...</td>\n",
       "      <td>[Q29468]</td>\n",
       "      <td>None</td>\n",
       "      <td>Q207</td>\n",
       "      <td>George W. Bush</td>\n",
       "      <td>[Q327959, Q464075, Q3586276, Q4450587]</td>\n",
       "      <td>item</td>\n",
       "      <td>[Q329646, Q682443, Q33203]</td>\n",
       "    </tr>\n",
       "    <tr>\n",
       "      <th>4</th>\n",
       "      <td>[Velázquez, Diego Rodríguez de Silva y Velázqu...</td>\n",
       "      <td>[+1599-06-06T00:00:00Z]</td>\n",
       "      <td>[Q29]</td>\n",
       "      <td>[Q6581097]</td>\n",
       "      <td>1391704596</td>\n",
       "      <td>None</td>\n",
       "      <td>None</td>\n",
       "      <td>[Q1028181]</td>\n",
       "      <td>None</td>\n",
       "      <td>None</td>\n",
       "      <td>Q297</td>\n",
       "      <td>Diego Velázquez</td>\n",
       "      <td>None</td>\n",
       "      <td>item</td>\n",
       "      <td>None</td>\n",
       "    </tr>\n",
       "  </tbody>\n",
       "</table>\n",
       "</div>"
      ],
      "text/plain": [
       "                                             aliases  ...                    religion\n",
       "0  [Washington, President Washington, G. Washingt...  ...                   [Q682443]\n",
       "1  [Douglas Noel Adams, Douglas Noël Adams, Dougl...  ...                        None\n",
       "2      [Paul Marie Ghislain Otlet, Paul Marie Otlet]  ...                        None\n",
       "3  [George Walker Bush, Bush Jr., Dubya, GWB, Bus...  ...  [Q329646, Q682443, Q33203]\n",
       "4  [Velázquez, Diego Rodríguez de Silva y Velázqu...  ...                        None\n",
       "\n",
       "[5 rows x 15 columns]"
      ]
     },
     "execution_count": 7,
     "metadata": {},
     "output_type": "execute_result"
    }
   ],
   "source": [
    "# Upload the attributes of the speakers\n",
    "df_attributes = pd.read_parquet(\"/content/drive/MyDrive/Project_datasets/speaker_attributes.parquet\")\n",
    "df_attributes.head()"
   ]
  },
  {
   "cell_type": "code",
   "execution_count": 8,
   "metadata": {
    "colab": {
     "base_uri": "https://localhost:8080/",
     "height": 1000
    },
    "id": "ka8ssxBEMc1y",
    "outputId": "02d21d01-4dd7-4b54-ff33-fbc4f0718a7e"
   },
   "outputs": [
    {
     "name": "stdout",
     "output_type": "stream",
     "text": [
      "['R' 'D' 'ID']\n",
      "Rep: 188\n",
      "Sen: 198\n",
      "Ind: 1\n"
     ]
    },
    {
     "data": {
      "text/html": [
       "<div>\n",
       "<style scoped>\n",
       "    .dataframe tbody tr th:only-of-type {\n",
       "        vertical-align: middle;\n",
       "    }\n",
       "\n",
       "    .dataframe tbody tr th {\n",
       "        vertical-align: top;\n",
       "    }\n",
       "\n",
       "    .dataframe thead th {\n",
       "        text-align: right;\n",
       "    }\n",
       "</style>\n",
       "<table border=\"1\" class=\"dataframe\">\n",
       "  <thead>\n",
       "    <tr style=\"text-align: right;\">\n",
       "      <th></th>\n",
       "      <th>quoteID</th>\n",
       "      <th>quotation</th>\n",
       "      <th>speaker</th>\n",
       "      <th>qids</th>\n",
       "      <th>date</th>\n",
       "      <th>numOccurrences</th>\n",
       "      <th>probas</th>\n",
       "      <th>urls</th>\n",
       "      <th>phase</th>\n",
       "      <th>party</th>\n",
       "      <th>date_of_birth</th>\n",
       "      <th>gender</th>\n",
       "      <th>state</th>\n",
       "    </tr>\n",
       "  </thead>\n",
       "  <tbody>\n",
       "    <tr>\n",
       "      <th>0</th>\n",
       "      <td>2017-10-31-000480</td>\n",
       "      <td>[ Opioid abuse ] is straining the resources of...</td>\n",
       "      <td>bob casey</td>\n",
       "      <td>[Q2907612]</td>\n",
       "      <td>2017-10-31 19:58:24</td>\n",
       "      <td>1</td>\n",
       "      <td>[[Bob Casey, 0.5118], [None, 0.3882], [Preside...</td>\n",
       "      <td>[http://thedailybeast.com/two-critical-republi...</td>\n",
       "      <td>E</td>\n",
       "      <td>D</td>\n",
       "      <td>1960-04-13</td>\n",
       "      <td>M</td>\n",
       "      <td>PA</td>\n",
       "    </tr>\n",
       "    <tr>\n",
       "      <th>1</th>\n",
       "      <td>2017-10-31-000757</td>\n",
       "      <td>... was into Elliott's rear bumper 100 feet be...</td>\n",
       "      <td>rick allen</td>\n",
       "      <td>[Q16226019, Q30122355, Q323356, Q7331191]</td>\n",
       "      <td>2017-10-31 05:11:43</td>\n",
       "      <td>1</td>\n",
       "      <td>[[Rick Allen, 0.7902], [Denny Hamlin, 0.1182],...</td>\n",
       "      <td>[https://www.frontstretch.com/2017/10/31/couch...</td>\n",
       "      <td>E</td>\n",
       "      <td>R</td>\n",
       "      <td>1951-11-07</td>\n",
       "      <td>M</td>\n",
       "      <td>GA</td>\n",
       "    </tr>\n",
       "    <tr>\n",
       "      <th>2</th>\n",
       "      <td>2017-07-26-084102</td>\n",
       "      <td>Jeff Sessions is one of the most decent people...</td>\n",
       "      <td>lindsey graham</td>\n",
       "      <td>[Q22212]</td>\n",
       "      <td>2017-07-26 16:56:24</td>\n",
       "      <td>1</td>\n",
       "      <td>[[Lindsey Graham, 0.933], [None, 0.0338], [Ric...</td>\n",
       "      <td>[http://news.vice.com/story/trump-actually-has...</td>\n",
       "      <td>E</td>\n",
       "      <td>R</td>\n",
       "      <td>1955-07-09</td>\n",
       "      <td>M</td>\n",
       "      <td>SC</td>\n",
       "    </tr>\n",
       "    <tr>\n",
       "      <th>3</th>\n",
       "      <td>2017-06-15-000974</td>\n",
       "      <td>50 Years of Breaking Barriers and Building Fut...</td>\n",
       "      <td>maxine waters</td>\n",
       "      <td>[Q461727]</td>\n",
       "      <td>2017-06-15 00:00:57</td>\n",
       "      <td>1</td>\n",
       "      <td>[[Maxine Waters, 0.8347], [None, 0.1653]]</td>\n",
       "      <td>[https://lasentinel.net/rep-waters-delivers-ke...</td>\n",
       "      <td>E</td>\n",
       "      <td>D</td>\n",
       "      <td>1938-08-15</td>\n",
       "      <td>F</td>\n",
       "      <td>CA</td>\n",
       "    </tr>\n",
       "    <tr>\n",
       "      <th>4</th>\n",
       "      <td>2017-07-28-001488</td>\n",
       "      <td>A disappointment indeed... Our friends on the ...</td>\n",
       "      <td>mitch mcconnell</td>\n",
       "      <td>[Q355522]</td>\n",
       "      <td>2017-07-28 16:00:08</td>\n",
       "      <td>1</td>\n",
       "      <td>[[Mitch McConnell, 0.6749], [None, 0.2717], [C...</td>\n",
       "      <td>[http://www.opposingviews.com/i/society/reacti...</td>\n",
       "      <td>E</td>\n",
       "      <td>R</td>\n",
       "      <td>1942-02-20</td>\n",
       "      <td>M</td>\n",
       "      <td>KY</td>\n",
       "    </tr>\n",
       "    <tr>\n",
       "      <th>...</th>\n",
       "      <td>...</td>\n",
       "      <td>...</td>\n",
       "      <td>...</td>\n",
       "      <td>...</td>\n",
       "      <td>...</td>\n",
       "      <td>...</td>\n",
       "      <td>...</td>\n",
       "      <td>...</td>\n",
       "      <td>...</td>\n",
       "      <td>...</td>\n",
       "      <td>...</td>\n",
       "      <td>...</td>\n",
       "      <td>...</td>\n",
       "    </tr>\n",
       "    <tr>\n",
       "      <th>313107</th>\n",
       "      <td>2017-05-31-065235</td>\n",
       "      <td>It is vital that they play a significant role ...</td>\n",
       "      <td>steve king</td>\n",
       "      <td>[Q37084447, Q749710, Q7613030, Q7613031, Q7613...</td>\n",
       "      <td>2017-05-31 07:38:06</td>\n",
       "      <td>2</td>\n",
       "      <td>[[Steve King, 0.8731], [None, 0.115], [Scott R...</td>\n",
       "      <td>[http://www.campaignlive.co.uk/article/publici...</td>\n",
       "      <td>E</td>\n",
       "      <td>R</td>\n",
       "      <td>1949-05-28</td>\n",
       "      <td>M</td>\n",
       "      <td>IA</td>\n",
       "    </tr>\n",
       "    <tr>\n",
       "      <th>313108</th>\n",
       "      <td>2017-03-02-047914</td>\n",
       "      <td>It was so invigorating to see so many people s...</td>\n",
       "      <td>salud carbajal</td>\n",
       "      <td>[Q27805429]</td>\n",
       "      <td>2017-03-02 08:47:46</td>\n",
       "      <td>1</td>\n",
       "      <td>[[Salud Carbajal, 0.9296], [None, 0.0674], [Pr...</td>\n",
       "      <td>[http://www.santamariasun.com/news/15780/centr...</td>\n",
       "      <td>E</td>\n",
       "      <td>D</td>\n",
       "      <td>1964-11-18</td>\n",
       "      <td>M</td>\n",
       "      <td>CA</td>\n",
       "    </tr>\n",
       "    <tr>\n",
       "      <th>313109</th>\n",
       "      <td>2017-05-23-059544</td>\n",
       "      <td>It would gut critical services and programs se...</td>\n",
       "      <td>nita lowey</td>\n",
       "      <td>[Q460652]</td>\n",
       "      <td>2017-05-23 19:23:27</td>\n",
       "      <td>2</td>\n",
       "      <td>[[Nita Lowey, 0.7933], [None, 0.2067]]</td>\n",
       "      <td>[https://patch.com/new-york/bedford/2018-feder...</td>\n",
       "      <td>E</td>\n",
       "      <td>D</td>\n",
       "      <td>1937-07-05</td>\n",
       "      <td>F</td>\n",
       "      <td>NY</td>\n",
       "    </tr>\n",
       "    <tr>\n",
       "      <th>313110</th>\n",
       "      <td>2017-06-18-033843</td>\n",
       "      <td>its actions to undermine U.S. allies and inter...</td>\n",
       "      <td>rob portman</td>\n",
       "      <td>[Q926069]</td>\n",
       "      <td>2017-06-18 02:25:18</td>\n",
       "      <td>1</td>\n",
       "      <td>[[Rob Portman, 0.7681], [None, 0.2319]]</td>\n",
       "      <td>[http://limaohio.com/news/249093/legislative-u...</td>\n",
       "      <td>E</td>\n",
       "      <td>R</td>\n",
       "      <td>1955-12-19</td>\n",
       "      <td>M</td>\n",
       "      <td>OH</td>\n",
       "    </tr>\n",
       "    <tr>\n",
       "      <th>313111</th>\n",
       "      <td>2017-10-24-077072</td>\n",
       "      <td>It's unfair to keep this budget-busting monste...</td>\n",
       "      <td>tim ryan</td>\n",
       "      <td>[Q10381179, Q3528685, Q513960, Q7804212, Q7804...</td>\n",
       "      <td>2017-10-24 16:25:53</td>\n",
       "      <td>1</td>\n",
       "      <td>[[Tim Ryan, 0.7363], [None, 0.2637]]</td>\n",
       "      <td>[http://www.masslive.com/politics/index.ssf/20...</td>\n",
       "      <td>E</td>\n",
       "      <td>D</td>\n",
       "      <td>1973-07-16</td>\n",
       "      <td>M</td>\n",
       "      <td>OH</td>\n",
       "    </tr>\n",
       "  </tbody>\n",
       "</table>\n",
       "<p>313112 rows × 13 columns</p>\n",
       "</div>"
      ],
      "text/plain": [
       "                  quoteID  ... state\n",
       "0       2017-10-31-000480  ...    PA\n",
       "1       2017-10-31-000757  ...    GA\n",
       "2       2017-07-26-084102  ...    SC\n",
       "3       2017-06-15-000974  ...    CA\n",
       "4       2017-07-28-001488  ...    KY\n",
       "...                   ...  ...   ...\n",
       "313107  2017-05-31-065235  ...    IA\n",
       "313108  2017-03-02-047914  ...    CA\n",
       "313109  2017-05-23-059544  ...    NY\n",
       "313110  2017-06-18-033843  ...    OH\n",
       "313111  2017-10-24-077072  ...    OH\n",
       "\n",
       "[313112 rows x 13 columns]"
      ]
     },
     "execution_count": 8,
     "metadata": {},
     "output_type": "execute_result"
    }
   ],
   "source": [
    "# Merge the congress dataframe with the quotes dataframe\n",
    "\n",
    "# Just a check of the number of different political parties \n",
    "print(df_congress.party.unique())\n",
    "rep = df_congress[df_congress.party == 'R']\n",
    "sen = df_congress[df_congress.party == 'D']\n",
    "ind = df_congress[df_congress.party == 'ID']\n",
    "print(f'Rep: {rep.shape[0]}')   \n",
    "print(f'Sen: {sen.shape[0]}')\n",
    "print(f'Ind: {ind.shape[0]}') \n",
    "\n",
    "# Then create a new dataframe df with the political affiliation of speaker\n",
    "df = df_quotes_2017\n",
    "df['speaker'] = df['speaker'].str.lower() #puts all strings in lower cases\n",
    "df_congress_new = df_congress[['party','speaker','date_of_birth','gender','state']].copy()\n",
    "df = df.merge(df_congress_new, how = 'left', on='speaker')\n",
    "df"
   ]
  },
  {
   "cell_type": "code",
   "execution_count": 9,
   "metadata": {
    "colab": {
     "base_uri": "https://localhost:8080/",
     "height": 660
    },
    "id": "UUQtQQBrJa6v",
    "outputId": "79ef0a32-e0b5-4ad1-8f76-612dc39f7d8e"
   },
   "outputs": [
    {
     "data": {
      "text/html": [
       "<div>\n",
       "<style scoped>\n",
       "    .dataframe tbody tr th:only-of-type {\n",
       "        vertical-align: middle;\n",
       "    }\n",
       "\n",
       "    .dataframe tbody tr th {\n",
       "        vertical-align: top;\n",
       "    }\n",
       "\n",
       "    .dataframe thead th {\n",
       "        text-align: right;\n",
       "    }\n",
       "</style>\n",
       "<table border=\"1\" class=\"dataframe\">\n",
       "  <thead>\n",
       "    <tr style=\"text-align: right;\">\n",
       "      <th></th>\n",
       "      <th>quoteID</th>\n",
       "      <th>quotation</th>\n",
       "      <th>speaker</th>\n",
       "      <th>qids</th>\n",
       "      <th>date</th>\n",
       "      <th>numOccurrences</th>\n",
       "      <th>probas</th>\n",
       "      <th>urls</th>\n",
       "      <th>phase</th>\n",
       "      <th>party_x</th>\n",
       "      <th>date_of_birth_x</th>\n",
       "      <th>gender_x</th>\n",
       "      <th>state</th>\n",
       "      <th>aliases</th>\n",
       "      <th>date_of_birth_y</th>\n",
       "      <th>nationality</th>\n",
       "      <th>gender_y</th>\n",
       "      <th>lastrevid</th>\n",
       "      <th>ethnic_group</th>\n",
       "      <th>US_congress_bio_ID</th>\n",
       "      <th>occupation</th>\n",
       "      <th>party_y</th>\n",
       "      <th>academic_degree</th>\n",
       "      <th>id</th>\n",
       "      <th>label</th>\n",
       "      <th>candidacy</th>\n",
       "      <th>type</th>\n",
       "      <th>religion</th>\n",
       "      <th>_merge</th>\n",
       "    </tr>\n",
       "  </thead>\n",
       "  <tbody>\n",
       "    <tr>\n",
       "      <th>0</th>\n",
       "      <td>2017-10-31-000480</td>\n",
       "      <td>[ Opioid abuse ] is straining the resources of...</td>\n",
       "      <td>bob casey</td>\n",
       "      <td>[Q2907612]</td>\n",
       "      <td>2017-10-31 19:58:24</td>\n",
       "      <td>1</td>\n",
       "      <td>[[Bob Casey, 0.5118], [None, 0.3882], [Preside...</td>\n",
       "      <td>[http://thedailybeast.com/two-critical-republi...</td>\n",
       "      <td>E</td>\n",
       "      <td>D</td>\n",
       "      <td>1960-04-13</td>\n",
       "      <td>M</td>\n",
       "      <td>PA</td>\n",
       "      <td>None</td>\n",
       "      <td>[+1909-02-11T00:00:00Z]</td>\n",
       "      <td>[Q30]</td>\n",
       "      <td>[Q6581097]</td>\n",
       "      <td>1.311344e+09</td>\n",
       "      <td>None</td>\n",
       "      <td>None</td>\n",
       "      <td>[Q6168364]</td>\n",
       "      <td>None</td>\n",
       "      <td>None</td>\n",
       "      <td>Q47541467</td>\n",
       "      <td>bob casey</td>\n",
       "      <td>None</td>\n",
       "      <td>item</td>\n",
       "      <td>None</td>\n",
       "      <td>both</td>\n",
       "    </tr>\n",
       "    <tr>\n",
       "      <th>1</th>\n",
       "      <td>2017-10-31-000480</td>\n",
       "      <td>[ Opioid abuse ] is straining the resources of...</td>\n",
       "      <td>bob casey</td>\n",
       "      <td>[Q2907612]</td>\n",
       "      <td>2017-10-31 19:58:24</td>\n",
       "      <td>1</td>\n",
       "      <td>[[Bob Casey, 0.5118], [None, 0.3882], [Preside...</td>\n",
       "      <td>[http://thedailybeast.com/two-critical-republi...</td>\n",
       "      <td>E</td>\n",
       "      <td>D</td>\n",
       "      <td>1960-04-13</td>\n",
       "      <td>M</td>\n",
       "      <td>PA</td>\n",
       "      <td>[Robert Casey]</td>\n",
       "      <td>[+1978-07-18T00:00:00Z]</td>\n",
       "      <td>[Q27]</td>\n",
       "      <td>[Q6581097]</td>\n",
       "      <td>1.330080e+09</td>\n",
       "      <td>None</td>\n",
       "      <td>None</td>\n",
       "      <td>[Q14089670]</td>\n",
       "      <td>None</td>\n",
       "      <td>None</td>\n",
       "      <td>Q2907612</td>\n",
       "      <td>bob casey</td>\n",
       "      <td>None</td>\n",
       "      <td>item</td>\n",
       "      <td>None</td>\n",
       "      <td>both</td>\n",
       "    </tr>\n",
       "    <tr>\n",
       "      <th>2</th>\n",
       "      <td>2017-10-31-000480</td>\n",
       "      <td>[ Opioid abuse ] is straining the resources of...</td>\n",
       "      <td>bob casey</td>\n",
       "      <td>[Q2907612]</td>\n",
       "      <td>2017-10-31 19:58:24</td>\n",
       "      <td>1</td>\n",
       "      <td>[[Bob Casey, 0.5118], [None, 0.3882], [Preside...</td>\n",
       "      <td>[http://thedailybeast.com/two-critical-republi...</td>\n",
       "      <td>E</td>\n",
       "      <td>D</td>\n",
       "      <td>1960-04-13</td>\n",
       "      <td>M</td>\n",
       "      <td>PA</td>\n",
       "      <td>None</td>\n",
       "      <td>[+1859-01-26T00:00:00Z]</td>\n",
       "      <td>[Q30]</td>\n",
       "      <td>[Q6581097]</td>\n",
       "      <td>1.315023e+09</td>\n",
       "      <td>None</td>\n",
       "      <td>None</td>\n",
       "      <td>[Q10871364]</td>\n",
       "      <td>None</td>\n",
       "      <td>None</td>\n",
       "      <td>Q4932030</td>\n",
       "      <td>bob casey</td>\n",
       "      <td>None</td>\n",
       "      <td>item</td>\n",
       "      <td>None</td>\n",
       "      <td>both</td>\n",
       "    </tr>\n",
       "    <tr>\n",
       "      <th>3</th>\n",
       "      <td>2017-10-31-000480</td>\n",
       "      <td>[ Opioid abuse ] is straining the resources of...</td>\n",
       "      <td>bob casey</td>\n",
       "      <td>[Q2907612]</td>\n",
       "      <td>2017-10-31 19:58:24</td>\n",
       "      <td>1</td>\n",
       "      <td>[[Bob Casey, 0.5118], [None, 0.3882], [Preside...</td>\n",
       "      <td>[http://thedailybeast.com/two-critical-republi...</td>\n",
       "      <td>E</td>\n",
       "      <td>D</td>\n",
       "      <td>1960-04-13</td>\n",
       "      <td>M</td>\n",
       "      <td>PA</td>\n",
       "      <td>None</td>\n",
       "      <td>[+1925-04-11T00:00:00Z]</td>\n",
       "      <td>[Q30]</td>\n",
       "      <td>[Q6581097]</td>\n",
       "      <td>1.315024e+09</td>\n",
       "      <td>None</td>\n",
       "      <td>None</td>\n",
       "      <td>[Q1371925]</td>\n",
       "      <td>None</td>\n",
       "      <td>None</td>\n",
       "      <td>Q4932029</td>\n",
       "      <td>bob casey</td>\n",
       "      <td>None</td>\n",
       "      <td>item</td>\n",
       "      <td>None</td>\n",
       "      <td>both</td>\n",
       "    </tr>\n",
       "    <tr>\n",
       "      <th>4</th>\n",
       "      <td>2017-10-31-000757</td>\n",
       "      <td>... was into Elliott's rear bumper 100 feet be...</td>\n",
       "      <td>rick allen</td>\n",
       "      <td>[Q16226019, Q30122355, Q323356, Q7331191]</td>\n",
       "      <td>2017-10-31 05:11:43</td>\n",
       "      <td>1</td>\n",
       "      <td>[[Rick Allen, 0.7902], [Denny Hamlin, 0.1182],...</td>\n",
       "      <td>[https://www.frontstretch.com/2017/10/31/couch...</td>\n",
       "      <td>E</td>\n",
       "      <td>R</td>\n",
       "      <td>1951-11-07</td>\n",
       "      <td>M</td>\n",
       "      <td>GA</td>\n",
       "      <td>None</td>\n",
       "      <td>[+1969-06-17T00:00:00Z]</td>\n",
       "      <td>[Q30]</td>\n",
       "      <td>[Q6581097]</td>\n",
       "      <td>1.312930e+09</td>\n",
       "      <td>None</td>\n",
       "      <td>None</td>\n",
       "      <td>[Q13219447]</td>\n",
       "      <td>None</td>\n",
       "      <td>None</td>\n",
       "      <td>Q16226019</td>\n",
       "      <td>rick allen</td>\n",
       "      <td>None</td>\n",
       "      <td>item</td>\n",
       "      <td>None</td>\n",
       "      <td>both</td>\n",
       "    </tr>\n",
       "  </tbody>\n",
       "</table>\n",
       "</div>"
      ],
      "text/plain": [
       "             quoteID  ... _merge\n",
       "0  2017-10-31-000480  ...   both\n",
       "1  2017-10-31-000480  ...   both\n",
       "2  2017-10-31-000480  ...   both\n",
       "3  2017-10-31-000480  ...   both\n",
       "4  2017-10-31-000757  ...   both\n",
       "\n",
       "[5 rows x 29 columns]"
      ]
     },
     "execution_count": 9,
     "metadata": {},
     "output_type": "execute_result"
    }
   ],
   "source": [
    "# Merge attributes dataframe with the quotes dataframe containing also political parties\n",
    "df_attributes['label'] = df_attributes['label'].str.lower()\n",
    "df_all = df.merge(df_attributes, how='left', left_on='speaker', right_on='label', indicator=True)\n",
    "df_all.head() #-> duplicates? to be solved for ML3, for now we will use df"
   ]
  },
  {
   "cell_type": "code",
   "execution_count": 10,
   "metadata": {
    "colab": {
     "base_uri": "https://localhost:8080/",
     "height": 502
    },
    "id": "QqWLV0Hm1P_6",
    "outputId": "e87d2065-4ed4-4461-e52d-2b2060ee66ab"
   },
   "outputs": [
    {
     "name": "stdout",
     "output_type": "stream",
     "text": [
      "Number of quotes containing the word 'climate' is 1020\n"
     ]
    },
    {
     "data": {
      "text/html": [
       "<div>\n",
       "<style scoped>\n",
       "    .dataframe tbody tr th:only-of-type {\n",
       "        vertical-align: middle;\n",
       "    }\n",
       "\n",
       "    .dataframe tbody tr th {\n",
       "        vertical-align: top;\n",
       "    }\n",
       "\n",
       "    .dataframe thead th {\n",
       "        text-align: right;\n",
       "    }\n",
       "</style>\n",
       "<table border=\"1\" class=\"dataframe\">\n",
       "  <thead>\n",
       "    <tr style=\"text-align: right;\">\n",
       "      <th></th>\n",
       "      <th>quoteID</th>\n",
       "      <th>quotation</th>\n",
       "      <th>speaker</th>\n",
       "      <th>qids</th>\n",
       "      <th>date</th>\n",
       "      <th>numOccurrences</th>\n",
       "      <th>probas</th>\n",
       "      <th>urls</th>\n",
       "      <th>phase</th>\n",
       "      <th>party</th>\n",
       "      <th>date_of_birth</th>\n",
       "      <th>gender</th>\n",
       "      <th>state</th>\n",
       "    </tr>\n",
       "  </thead>\n",
       "  <tbody>\n",
       "    <tr>\n",
       "      <th>13</th>\n",
       "      <td>2017-06-02-078684</td>\n",
       "      <td>My hope is that with the president's decision ...</td>\n",
       "      <td>lisa murkowski</td>\n",
       "      <td>[Q22360]</td>\n",
       "      <td>2017-06-02 02:38:19</td>\n",
       "      <td>1</td>\n",
       "      <td>[[Lisa Murkowski, 0.7365], [None, 0.2635]]</td>\n",
       "      <td>[http://juneauempire.com/news/2017-06-01/junea...</td>\n",
       "      <td>E</td>\n",
       "      <td>R</td>\n",
       "      <td>1957-05-22</td>\n",
       "      <td>F</td>\n",
       "      <td>AK</td>\n",
       "    </tr>\n",
       "    <tr>\n",
       "      <th>620</th>\n",
       "      <td>2017-08-16-089882</td>\n",
       "      <td>Louisiana flood victims are already struggling...</td>\n",
       "      <td>ralph abraham</td>\n",
       "      <td>[Q18683775, Q973595]</td>\n",
       "      <td>2017-08-16 14:26:06</td>\n",
       "      <td>1</td>\n",
       "      <td>[[Ralph Abraham, 0.8851], [None, 0.1118], [Pre...</td>\n",
       "      <td>[https://insurancenewsnet.com/oarticle/abraham...</td>\n",
       "      <td>E</td>\n",
       "      <td>R</td>\n",
       "      <td>1954-09-16</td>\n",
       "      <td>M</td>\n",
       "      <td>LA</td>\n",
       "    </tr>\n",
       "    <tr>\n",
       "      <th>708</th>\n",
       "      <td>2017-07-18-115705</td>\n",
       "      <td>This vote is proof that there is now a biparti...</td>\n",
       "      <td>ted deutch</td>\n",
       "      <td>[Q245724]</td>\n",
       "      <td>2017-07-18 08:00:00</td>\n",
       "      <td>2</td>\n",
       "      <td>[[Ted Deutch, 0.9429], [None, 0.0521], [Bob Go...</td>\n",
       "      <td>[http://newsadvance.com/opinion/letters_to_edi...</td>\n",
       "      <td>E</td>\n",
       "      <td>D</td>\n",
       "      <td>1966-05-07</td>\n",
       "      <td>M</td>\n",
       "      <td>FL</td>\n",
       "    </tr>\n",
       "    <tr>\n",
       "      <th>778</th>\n",
       "      <td>2017-08-23-097946</td>\n",
       "      <td>Our business climate is one that we're trying ...</td>\n",
       "      <td>mike johnson</td>\n",
       "      <td>[Q1137104, Q1176984, Q1391901, Q16106677, Q165...</td>\n",
       "      <td>2017-08-23 01:23:00</td>\n",
       "      <td>1</td>\n",
       "      <td>[[Mike Johnson, 0.8135], [None, 0.179], [Ollie...</td>\n",
       "      <td>[http://kpvi.com/news/national_news/k-grant-fo...</td>\n",
       "      <td>E</td>\n",
       "      <td>R</td>\n",
       "      <td>1972-01-30</td>\n",
       "      <td>M</td>\n",
       "      <td>LA</td>\n",
       "    </tr>\n",
       "    <tr>\n",
       "      <th>786</th>\n",
       "      <td>2017-05-01-076116</td>\n",
       "      <td>President Trump named climate change denier Sc...</td>\n",
       "      <td>nita lowey</td>\n",
       "      <td>[Q460652]</td>\n",
       "      <td>2017-05-01 00:00:00</td>\n",
       "      <td>1</td>\n",
       "      <td>[[Nita Lowey, 0.5679], [None, 0.4321]]</td>\n",
       "      <td>[http://wamc.org/post/ny-congresswoman-stands-...</td>\n",
       "      <td>E</td>\n",
       "      <td>D</td>\n",
       "      <td>1937-07-05</td>\n",
       "      <td>F</td>\n",
       "      <td>NY</td>\n",
       "    </tr>\n",
       "  </tbody>\n",
       "</table>\n",
       "</div>"
      ],
      "text/plain": [
       "               quoteID  ... state\n",
       "13   2017-06-02-078684  ...    AK\n",
       "620  2017-08-16-089882  ...    LA\n",
       "708  2017-07-18-115705  ...    FL\n",
       "778  2017-08-23-097946  ...    LA\n",
       "786  2017-05-01-076116  ...    NY\n",
       "\n",
       "[5 rows x 13 columns]"
      ]
     },
     "execution_count": 10,
     "metadata": {},
     "output_type": "execute_result"
    }
   ],
   "source": [
    "subject = 'climate'\n",
    "env_quote = []\n",
    "index = []\n",
    "for i in range(df.shape[0]):\n",
    "    if df.quotation[i].find(subject) > 0:\n",
    "        env_quote.append(df.quotation[i])\n",
    "        index.append(i)\n",
    "\n",
    "print(f\"Number of quotes containing the word \\'{subject}\\' is {len(env_quote)}\")\n",
    "df_climate = df.iloc[index]\n",
    "df_climate.head()"
   ]
  },
  {
   "cell_type": "markdown",
   "metadata": {
    "id": "Ief-h7Ycn2fP"
   },
   "source": [
    "# Research question 1 : Analysis of the positivity and negativity of each quote related to climate change\n",
    "(Note: We are aware that the importation should be done at the beginning of the notebook but considering that for ML3 the 3 research questions will be in different notebooks we chose to import the packages here)"
   ]
  },
  {
   "cell_type": "code",
   "execution_count": 11,
   "metadata": {
    "colab": {
     "base_uri": "https://localhost:8080/"
    },
    "id": "gFWbV3JzUYxL",
    "outputId": "9e27078d-84cd-4872-a3cf-2c95d6fc630c"
   },
   "outputs": [
    {
     "name": "stdout",
     "output_type": "stream",
     "text": [
      "[nltk_data] Downloading package vader_lexicon to /root/nltk_data...\n",
      "[nltk_data]   Package vader_lexicon is already up-to-date!\n"
     ]
    },
    {
     "name": "stderr",
     "output_type": "stream",
     "text": [
      "/usr/local/lib/python3.7/dist-packages/nltk/twitter/__init__.py:20: UserWarning: The twython library has not been installed. Some functionality from the twitter package will not be available.\n",
      "  warnings.warn(\"The twython library has not been installed. \"\n",
      "/usr/local/lib/python3.7/dist-packages/ipykernel_launcher.py:13: SettingWithCopyWarning: \n",
      "A value is trying to be set on a copy of a slice from a DataFrame.\n",
      "Try using .loc[row_indexer,col_indexer] = value instead\n",
      "\n",
      "See the caveats in the documentation: https://pandas.pydata.org/pandas-docs/stable/user_guide/indexing.html#returning-a-view-versus-a-copy\n",
      "  del sys.path[0]\n"
     ]
    }
   ],
   "source": [
    "# Use natural language toolkit analyser was used\n",
    "import nltk \n",
    "nltk.download('vader_lexicon')\n",
    "from nltk.sentiment.vader import SentimentIntensityAnalyzer\n",
    "\n",
    "temp_compound = []\n",
    "toscore = df_climate['quotation'].str.lower().tolist()\n",
    "\n",
    "\n",
    "for i in range(len(toscore)):\n",
    "  temp_compound += [SentimentIntensityAnalyzer().polarity_scores(toscore[i]).get('compound')]\n",
    "\n",
    "df_climate['sentiment_score'] = temp_compound"
   ]
  },
  {
   "cell_type": "markdown",
   "metadata": {
    "id": "6n34YHFNn70H"
   },
   "source": [
    "# Research question 2: Which major attributes of politicians can explain his/her opinion on a precise issue?"
   ]
  },
  {
   "cell_type": "code",
   "execution_count": 12,
   "metadata": {
    "colab": {
     "base_uri": "https://localhost:8080/"
    },
    "id": "6S6KKApDUajH",
    "outputId": "49655568-2e07-44dd-8936-6f827702bab6"
   },
   "outputs": [
    {
     "name": "stderr",
     "output_type": "stream",
     "text": [
      "/usr/local/lib/python3.7/dist-packages/statsmodels/tools/_testing.py:19: FutureWarning: pandas.util.testing is deprecated. Use the functions in the public API at pandas.testing instead.\n",
      "  import pandas.util.testing as tm\n"
     ]
    },
    {
     "name": "stdout",
     "output_type": "stream",
     "text": [
      "                            OLS Regression Results                            \n",
      "==============================================================================\n",
      "Dep. Variable:        sentiment_score   R-squared:                       0.008\n",
      "Model:                            OLS   Adj. R-squared:                  0.006\n",
      "Method:                 Least Squares   F-statistic:                     3.947\n",
      "Date:                Thu, 11 Nov 2021   Prob (F-statistic):             0.0196\n",
      "Time:                        21:32:55   Log-Likelihood:                -802.11\n",
      "No. Observations:                1017   AIC:                             1610.\n",
      "Df Residuals:                    1014   BIC:                             1625.\n",
      "Df Model:                           2                                         \n",
      "Covariance Type:            nonrobust                                         \n",
      "===============================================================================\n",
      "                  coef    std err          t      P>|t|      [0.025      0.975]\n",
      "-------------------------------------------------------------------------------\n",
      "Intercept       0.1351      0.105      1.290      0.197      -0.070       0.341\n",
      "gender[T.M]     0.0884      0.037      2.360      0.018       0.015       0.162\n",
      "age            -0.0016      0.001     -1.056      0.291      -0.004       0.001\n",
      "==============================================================================\n",
      "Omnibus:                      403.324   Durbin-Watson:                   1.836\n",
      "Prob(Omnibus):                  0.000   Jarque-Bera (JB):               54.558\n",
      "Skew:                          -0.118   Prob(JB):                     1.42e-12\n",
      "Kurtosis:                       1.890   Cond. No.                         413.\n",
      "==============================================================================\n",
      "\n",
      "Warnings:\n",
      "[1] Standard Errors assume that the covariance matrix of the errors is correctly specified.\n"
     ]
    },
    {
     "name": "stderr",
     "output_type": "stream",
     "text": [
      "/usr/local/lib/python3.7/dist-packages/ipykernel_launcher.py:12: SettingWithCopyWarning: \n",
      "A value is trying to be set on a copy of a slice from a DataFrame.\n",
      "Try using .loc[row_indexer,col_indexer] = value instead\n",
      "\n",
      "See the caveats in the documentation: https://pandas.pydata.org/pandas-docs/stable/user_guide/indexing.html#returning-a-view-versus-a-copy\n",
      "  if sys.path[0] == '':\n",
      "/usr/local/lib/python3.7/dist-packages/ipykernel_launcher.py:13: SettingWithCopyWarning: \n",
      "A value is trying to be set on a copy of a slice from a DataFrame.\n",
      "Try using .loc[row_indexer,col_indexer] = value instead\n",
      "\n",
      "See the caveats in the documentation: https://pandas.pydata.org/pandas-docs/stable/user_guide/indexing.html#returning-a-view-versus-a-copy\n",
      "  del sys.path[0]\n"
     ]
    }
   ],
   "source": [
    "from statsmodels.stats import diagnostic\n",
    "from scipy import stats\n",
    "import statsmodels.api as sm\n",
    "import statsmodels.formula.api as smf\n",
    "\n",
    "\n",
    "# Note that for ML2 we only used date of birth and gender from the congress df to ease the initial analysis\n",
    "# For ML3, more attributes (especially from speaker_attributes data) will be considered\n",
    "\n",
    "# Convert date of birth to age\n",
    "now = pd.Timestamp('now')\n",
    "df_climate['date_of_birth'] = pd.to_datetime(df_climate['date_of_birth']) #convert dob to date\n",
    "df_climate['age'] = (now - df_climate['date_of_birth']).astype('<m8[Y]')\n",
    "\n",
    "# Declares the model\n",
    "mod = smf.ols(formula='sentiment_score ~ age + gender', data=df_climate)\n",
    "\n",
    "# Fits the model (find the optimal coefficients, adding a random seed ensures consistency)\n",
    "np.random.seed(2)\n",
    "res = mod.fit()\n",
    "\n",
    "# Print thes summary output provided by the library.\n",
    "print(res.summary())"
   ]
  },
  {
   "cell_type": "markdown",
   "metadata": {},
   "source": [
    "Note that here, the age and the gender only do not explain the positivity or negativity of a quote at all."
   ]
  },
  {
   "cell_type": "markdown",
   "metadata": {
    "id": "q-ONxSCcoGb1"
   },
   "source": [
    "# Research question 3: examples of interesting fact to present and study \n",
    "This types of analysis should be done for each year to study the temporal evolution"
   ]
  },
  {
   "cell_type": "code",
   "execution_count": 13,
   "metadata": {
    "colab": {
     "base_uri": "https://localhost:8080/",
     "height": 313
    },
    "id": "tqYxNJZzJZyV",
    "outputId": "62b89c4e-68ca-4d47-c752-ca9ece7d6f3a"
   },
   "outputs": [
    {
     "data": {
      "text/plain": [
       "[]"
      ]
     },
     "execution_count": 13,
     "metadata": {},
     "output_type": "execute_result"
    },
    {
     "data": {
      "image/png": "[encoded data removed]",
      "text/plain": [
       "<Figure size 432x288 with 1 Axes>"
      ]
     },
     "metadata": {
      "needs_background": "light"
     },
     "output_type": "display_data"
    }
   ],
   "source": [
    "# BOXPLOT with sentiment score for each party\n",
    "ax = sns.boxplot(x=\"party\", y=\"sentiment_score\", data=df_climate)\n",
    "ax.set_title('Boxplots of sentiment score according to parties')\n",
    "plt.plot() "
   ]
  },
  {
   "cell_type": "code",
   "execution_count": 14,
   "metadata": {
    "id": "eFN_t81lo8lp"
   },
   "outputs": [],
   "source": [
    "count_total_quotes = [df.party.value_counts()['R'], df.party.value_counts()['D'], df.party.value_counts()['ID']] \n",
    "#df.party.value_counts()['R'] much faster than df[df['party]=='R'].sum()"
   ]
  },
  {
   "cell_type": "code",
   "execution_count": 15,
   "metadata": {
    "colab": {
     "base_uri": "https://localhost:8080/",
     "height": 310
    },
    "id": "W4nRdp1jm4OO",
    "outputId": "3a7f9c17-16f1-4aae-a729-2ddec4e0e91a"
   },
   "outputs": [
    {
     "data": {
      "image/png": "[encoded data removed]",
      "text/plain": [
       "<Figure size 432x288 with 1 Axes>"
      ]
     },
     "metadata": {
      "needs_background": "light"
     },
     "output_type": "display_data"
    }
   ],
   "source": [
    "#BARPLOT with counts of climate quotes over total quotes for each party \n",
    "df_climate['party'].value_counts().plot(kind='bar');\n",
    "plt.xlabel(\"Party\", labelpad=14)\n",
    "plt.ylabel(\"Count of quotes\", labelpad=14)\n",
    "plt.title(\"Count of quotes that contain 'climate' per party\", y=1.02);"
   ]
  },
  {
   "cell_type": "code",
   "execution_count": 16,
   "metadata": {
    "colab": {
     "base_uri": "https://localhost:8080/",
     "height": 310
    },
    "id": "VPnM2dWwrDha",
    "outputId": "4726565a-66cd-450d-d568-4bc2b303980f"
   },
   "outputs": [
    {
     "data": {
      "image/png": "[encoded data removed]",
      "text/plain": [
       "<Figure size 432x288 with 1 Axes>"
      ]
     },
     "metadata": {
      "needs_background": "light"
     },
     "output_type": "display_data"
    }
   ],
   "source": [
    "#BARPLOT with percentage of climate quotes for each party \n",
    "ratio_data = df_climate['party'].value_counts()/count_total_quotes*100\n",
    "ratio_data.plot(kind='bar');\n",
    "plt.xlabel(\"Party\", labelpad=14)\n",
    "plt.ylabel(\"Percentage [%]\", labelpad=14)\n",
    "plt.title(\"Percentage of quotes that contain 'climate' per party\", y=1.02);"
   ]
  },
  {
   "cell_type": "code",
   "execution_count": 17,
   "metadata": {
    "colab": {
     "base_uri": "https://localhost:8080/",
     "height": 786
    },
    "id": "vPixF59Osngz",
    "outputId": "96de436e-73b2-4030-e9e1-3c2c1ace2944"
   },
   "outputs": [
    {
     "name": "stderr",
     "output_type": "stream",
     "text": [
      "/usr/local/lib/python3.7/dist-packages/ipykernel_launcher.py:2: SettingWithCopyWarning: \n",
      "A value is trying to be set on a copy of a slice from a DataFrame.\n",
      "Try using .loc[row_indexer,col_indexer] = value instead\n",
      "\n",
      "See the caveats in the documentation: https://pandas.pydata.org/pandas-docs/stable/user_guide/indexing.html#returning-a-view-versus-a-copy\n",
      "  \n"
     ]
    },
    {
     "name": "stdout",
     "output_type": "stream",
     "text": [
      "Statistics for quotes that contain 'climate'\n",
      "count    1020.000000\n",
      "mean      222.854902\n",
      "std       191.798954\n",
      "min        30.000000\n",
      "25%       108.750000\n",
      "50%       172.500000\n",
      "75%       269.250000\n",
      "max      2195.000000\n",
      "Name: quote_length, dtype: float64\n",
      "\n",
      "Statistics for all quotes\n",
      "count    313112.000000\n",
      "mean        136.779986\n",
      "std         112.574738\n",
      "min           9.000000\n",
      "25%          64.000000\n",
      "50%         109.000000\n",
      "75%         174.000000\n",
      "max        2678.000000\n",
      "Name: quote_length, dtype: float64\n"
     ]
    },
    {
     "data": {
      "image/png": "[encoded data removed]",
      "text/plain": [
       "<Figure size 432x288 with 1 Axes>"
      ]
     },
     "metadata": {
      "needs_background": "light"
     },
     "output_type": "display_data"
    }
   ],
   "source": [
    "#BOXPLOT Average length of quotes containing climate compared to average total length \n",
    "df_climate['quote_length']=df_climate.quotation.str.len()\n",
    "df['quote_length']=df.quotation.str.len()\n",
    "\n",
    "df_climate['quote_length'].hist(bins = 100)\n",
    "plt.xlabel('Quote length')\n",
    "plt.ylabel('Number of quote')\n",
    "plt.title(\"Histogram of quote length that contain 'climate'\")\n",
    "\n",
    "print(\"Statistics for quotes that contain 'climate'\")\n",
    "print(df_climate['quote_length'].describe())\n",
    "print(\"\\nStatistics for all quotes\")\n",
    "print(df['quote_length'].describe())"
   ]
  },
  {
   "cell_type": "markdown",
   "metadata": {
    "id": "7PE7cCdJ5dot"
   },
   "source": [
    "Quotes that contain the word 'climate' seem to be longer than the average quote (see quartile 75). Is it because climate change is a complex subject that tends to make politicians explain their opinion in more details? To be explored..."
   ]
  },
  {
   "cell_type": "markdown",
   "metadata": {
    "id": "qSzdz5LbpyBy"
   },
   "source": [
    "# Additional analysis"
   ]
  },
  {
   "cell_type": "code",
   "execution_count": 18,
   "metadata": {
    "colab": {
     "base_uri": "https://localhost:8080/"
    },
    "id": "oXHbVlYjHPZU",
    "outputId": "6c68e39e-6462-4539-e9b5-5c50fb3ed5a0"
   },
   "outputs": [
    {
     "data": {
      "text/plain": [
       "Q355522      9783\n",
       "Q170581      9489\n",
       "Q22212       9191\n",
       "Q434706      5938\n",
       "Q324546      5538\n",
       "             ... \n",
       "Q16966491       1\n",
       "Q11318970       1\n",
       "Q14249324       1\n",
       "Q57314959       1\n",
       "Q56635322       1\n",
       "Name: qids, Length: 909, dtype: int64"
      ]
     },
     "execution_count": 18,
     "metadata": {},
     "output_type": "execute_result"
    }
   ],
   "source": [
    "# Check the most common qids\n",
    "df.qids.to_list\n",
    "\n",
    "test = df.explode('qids').reset_index(drop=True)\n",
    "test.qids.value_counts()\n",
    "\n",
    "# Note: QIDs seem to be only political figures????"
   ]
  }
 ],
 "metadata": {
  "colab": {
   "collapsed_sections": [],
   "name": "analysis_congress_2017.ipynb",
   "provenance": []
  },
  "kernelspec": {
   "display_name": "Python 3",
   "language": "python",
   "name": "python3"
  },
  "language_info": {
   "codemirror_mode": {
    "name": "ipython",
    "version": 3
   },
   "file_extension": ".py",
   "mimetype": "text/x-python",
   "name": "python",
   "nbconvert_exporter": "python",
   "pygments_lexer": "ipython3",
   "version": "3.9.4"
  }
 },
 "nbformat": 4,
 "nbformat_minor": 1
}
